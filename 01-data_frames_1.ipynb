{
 "cells": [
  {
   "cell_type": "raw",
   "id": "80b4f58e",
   "metadata": {},
   "source": [
    "---\n",
    "title: \"Data Frames - Part 1\"\n",
    "teaching: 60\n",
    "exercises: 60\n",
    "---"
   ]
  },
  {
   "cell_type": "markdown",
   "id": "385bd6b4",
   "metadata": {},
   "source": [
    "[**Download Chapter notebook (ipynb)**](01-data_frames_1.ipynb)\n",
    "\n",
    "[<span style=\"color: rgb(255, 0, 0);\">**Mandatory Lesson Feedback Survey**</span>](https://docs.google.com/forms/d/e/1FAIpQLSdr0capF7jloJhPH3Pki1B3LZoKOG16poOpuVJ7SL2LkwLHQA/viewform?pli=1)\n",
    "\n"
   ]
  },
  {
   "cell_type": "markdown",
   "id": "9bb7d5a7",
   "metadata": {},
   "source": [
    "::::::::::::::::::::::::::::::::::::: questions\n",
    "\n",
    "- How is data read into a dataframe?\n",
    "- What are different ways to manipulate data in dataframes?\n",
    "- What makes data visualisation simple in Python?\n",
    "\n",
    "::::::::::::::::::::::::::::::::::::::::::::::::\n",
    "\n",
    "::::::::::::::::::::::::::::::::::::: objectives\n",
    "- Import data set as Pandas dataframe\n",
    "- Inspect data frame and access data\n",
    "- Produce an overview of data features\n",
    "- Create data plots using Matplotlib\n",
    "::::::::::::::::::::::::::::::::::::::::::::::::\n",
    "\n",
    "<br>\n",
    "<p align = \"center\">\n",
    "<iframe width=\"560\" height=\"315\" src=\"https://www.youtube.com/embed/jdWOAzK81VE\" title=\"YouTube video player\" frameborder=\"0\" allow=\"accelerometer; autoplay; clipboard-write; encrypted-media; gyroscope; picture-in-picture\" allowfullscreen></iframe>\n",
    "</p>\n",
    "<br>\n",
    "\n",
    "<p align = \"center\">\n",
    "<iframe width=\"560\" height=\"315\" src=\"https://www.youtube.com/embed/zw6t3yHEqGU\" title=\"YouTube video player\" frameborder=\"0\" allow=\"accelerometer; autoplay; clipboard-write; encrypted-media; gyroscope; picture-in-picture\" allowfullscreen></iframe>\n",
    "</p>\n",
    "<br>\n",
    "\n",
    "<p align = \"center\">\n",
    "<iframe width=\"560\" height=\"315\" src=\"https://www.youtube.com/embed/mljXcIzx4ps\" title=\"YouTube video player\" frameborder=\"0\" allow=\"accelerometer; autoplay; clipboard-write; encrypted-media; gyroscope; picture-in-picture\" allowfullscreen></iframe>\n",
    "</p>\n",
    "<br>\n",
    "\n",
    ":::::::::::::::::: prereq\n",
    "\n",
    "## Prerequisites\n",
    "\n",
    "- Indexing of Arrays\n",
    "- For Loop through Array\n",
    "- Basic Statistics (distributions, mean, median, standard deviation)\n",
    "\n",
    "::::::::::::::::::\n",
    "\n",
    ":::::::::::::::::::::::::::::::::::::::::::::::::::::::::::::::::::: instructor\n",
    "\n",
    "The diabetes data set is one of the challenging task.\n",
    "\n",
    "::::::::::::::::::::::::::::::::::::::::::::::::::::::::::::::::::::::::::::::::"
   ]
  },
  {
   "cell_type": "markdown",
   "id": "57375a25",
   "metadata": {},
   "source": [
    "## Challenge: The diabetes data set\n",
    "<p style='text-align: justify;'>\n",
    "Here is a screenshot of the so-called diabetes data set. It is taken from\n",
    "[this webpage](https://www4.stat.ncsu.edu/~boos/var.select/diabetes.tab.txt) and it is one of the [example data sets](https://scikit-learn.org/stable/modules/generated/sklearn.datasets.load_diabetes.html) used to illustrate machine learning functionality in scikit-learn (Part III and Part IV of the course).\n",
    "</p>\n",
    "\n",
    "![](fig/diabetes_data_screenshot.png \"Screenshot of Diabetes Data\")\n",
    "\n",
    "<p style='text-align: justify;'>\n",
    "This figure captures only the top part of the data. On the webpage you need to scroll down considerably to view the whole content. Thus, to get an __overview__ of the dataset is the first main task in Data Science.\n",
    "</p>\n",
    "\n",
    "::::::::::::::::::::::::::::::::::::: callout\n",
    "\n",
    "## The lesson\n",
    "\n",
    "- introduces code to read and inspect the data\n",
    "- works with a specific data frame and extracts some techniques to get an overview\n",
    "- discusses the concept 'distribution' as a way of summarising data in a single figure\n"
   ]
  },
  {
   "cell_type": "markdown",
   "id": "1092198d",
   "metadata": {},
   "source": [
    ":::::::: checklist\n",
    "\n",
    "### To get to know a dataset you need to\n",
    "\n",
    "- access the data\n",
    "- check the content\n",
    "- produce a summary of basic properties\n",
    "\n",
    "::::::::\n",
    "\n",
    "<p style='text-align: justify;'>\n",
    "In this lesson we will only look at univariate features where each data column is studied independently of the others. Further properties and bivariate features will be the topic of the next lesson.\n",
    "</p>\n",
    "\n",
    "::::::::::::::::::::::::::::::::::::::::::::::::\n",
    "\n",
    "## Work Through Example\n",
    "\n",
    ":::::::::::::::::::::::::::::::::::::::::::::::: discussion\n",
    "\n",
    "## Reading data into a Pandas DataFrame\n",
    "\n",
    "<p style='text-align: justify;'>\n",
    "The small practice data file for this section is called 'everleys_data.csv' and can be downloaded using the link given above in \"Materials for this Lesson\". To start, please create a subfolder called 'data' in the current directory and put the data file in it. It can now be accessed using the relative path `data/everleys_data.csv` or `data\\everleys_data.csv`, respectively.\n",
    "</p>\n",
    "\n",
    "<p style='text-align: justify;'>\n",
    "The file `everleys_data.csv` contains blood concentrations of calcium and sodium ions from 17 patients with Everley's syndrome. The data are taken from a [BMJ statistics tutorial](https://www.bmj.com/about-bmj/resources-readers/publications/statistics-square-one/7-t-tests). The data are stored as comma-separated values (csv), two values for each patient.\n",
    "</p>\n",
    "<p style='text-align: justify;'>\n",
    "To get to know a dataset, we will use the Pandas package and the Matplotlib plotting library. The Pandas package for data science is included in the Anaconda distribution of Python. Check this [link for installation instructions](https://pandas.pydata.org/getting_started.html) to get started.\n",
    "</p>\n",
    "\n",
    "If you are not using the Anaconda distribution, please refer to [these guidelines](https://pandas.pydata.org/docs/getting_started/install.html).\n",
    "\n",
    "<p style='text-align: justify;'>\n",
    "To use the functions contained in Pandas they need to be imported. Our dataset is in '.csv' format, and we therefore need to read it from a csv file. For this, we import the function `read_csv`. This function will create a _Pandas dataframe_.\n",
    "</p>\n",
    "\n",
    "::::::::::::::::::::::::::::::::::::::::::::::::"
   ]
  },
  {
   "cell_type": "code",
   "execution_count": null,
   "id": "55919453",
   "metadata": {},
   "outputs": [],
   "source": [
    "from pandas import read_csv\n"
   ]
  },
  {
   "cell_type": "markdown",
   "id": "89ff5df6",
   "metadata": {},
   "source": [
    "<p style='text-align: justify;'>\n",
    "Executing this code does not lead to any output on the screen. However, the function is now ready to be used. To use it, we type its name and provide the required arguments. The following code should import the Everley's data into your JupyterLab notebook (or other Python environment):\n",
    "</p>\n"
   ]
  },
  {
   "cell_type": "code",
   "execution_count": null,
   "id": "4c39260e",
   "metadata": {
    "lines_to_next_cell": 2
   },
   "outputs": [],
   "source": [
    "# for Mac OSX and Linux\n",
    "# (please go to the next cell if using Windows)\n",
    "\n",
    "df = read_csv(\"data/everleys_data.csv\")\n"
   ]
  },
  {
   "cell_type": "code",
   "execution_count": null,
   "id": "3d552801",
   "metadata": {},
   "outputs": [],
   "source": [
    "# Please uncomment for Windows\n",
    "# (please go to previous cell if using Mac OSX or Linux)\n",
    "\n",
    "# df = read_csv(\"data\\everleys_data.csv\")\n"
   ]
  },
  {
   "cell_type": "markdown",
   "id": "32990935",
   "metadata": {},
   "source": [
    "<p style='text-align: justify;'>\n",
    "This code uses the `read_csv` function from Pandas to read data from a data file, in this case a file with extension '.csv'. Note that the location of the data file is specified within quotes by the relative path to the subfolder 'data' followed by the file name. Use the JupyterLab file browser to check that subfolder exists and has the file in it.\n",
    "</p>\n",
    "\n",
    "![](fig/subfolder_data.png \"Screenshot of subfolder 'data' \")\n",
    "\n",
    "After execution of the code, the data are contained in a variable called `df`. This is a structure referred to as a Pandas _DataFrame_.\n",
    "\n",
    "> A [__Pandas dataframe__](https://pandas.pydata.org/pandas-docs/stable/user_guide/dsintro.html#dataframe) is a 2-dimensional labeled data structure with columns of potentially different types. You can think of it as a spreadsheet."
   ]
  },
  {
   "cell_type": "markdown",
   "id": "74217f43",
   "metadata": {},
   "source": [
    "To see the contents of `df`, simply use:\n"
   ]
  },
  {
   "cell_type": "code",
   "execution_count": null,
   "id": "890fabc6",
   "metadata": {},
   "outputs": [],
   "source": [
    "df\n"
   ]
  },
  {
   "cell_type": "markdown",
   "id": "e2d73de0",
   "metadata": {},
   "source": [
    "(Compare with the result of `print(df)` which displays the contents in a different format.)\n",
    "\n",
    "<p style='text-align: justify;'>\n",
    "The output shows in the first column an index, integers from 0 to 17; and the calcium and sodium concentrations in columns 2 and 3, respectively. The default indexing starts from zero (Python is a 'zero-based' programming language).\n",
    "</p>\n",
    "\n",
    "<p style='text-align: justify;'>\n",
    "In a dataframe, the first column is referred to as _Indices_, the first row is referred to as _Labels_. Note that the row with the labels is excluded from the row count. Similarly, the row with the indices is excluded from the column count.\n",
    "</p>\n",
    "\n",
    "For large data sets, the function `head` is a convenient way to get a feel of the dataset.\n"
   ]
  },
  {
   "cell_type": "code",
   "execution_count": null,
   "id": "250acdbc",
   "metadata": {},
   "outputs": [],
   "source": [
    "df.head()"
   ]
  },
  {
   "cell_type": "markdown",
   "id": "c3524a63",
   "metadata": {},
   "source": [
    "<p style='text-align: justify;'>\n",
    "Without any input argument, this displays the first five data lines of the dataframe. You can specify alter the number of rows displayed by including a single integer as argument, e.g. `head(10)`.\n",
    "</p>\n",
    "\n",
    "<p style='text-align: justify;'>\n",
    "If you feel there are too many decimal places in the default view, you can restrict their number by using the `round` function:\n",
    "</p>\n"
   ]
  },
  {
   "cell_type": "code",
   "execution_count": null,
   "id": "20df3d52",
   "metadata": {},
   "outputs": [],
   "source": [
    "df.head().round(2)"
   ]
  },
  {
   "cell_type": "markdown",
   "id": "aa79ffc6",
   "metadata": {},
   "source": [
    "<p style='text-align: justify;'>\n",
    "While we can see how many rows there are in a dataframe when we display the whole data frame and look at the last index, there is a convenient way to obtain the number directly:\n",
    "</p>"
   ]
  },
  {
   "cell_type": "code",
   "execution_count": null,
   "id": "33d51e45",
   "metadata": {},
   "outputs": [],
   "source": [
    "no_rows = len(df)\n",
    "\n",
    "print('Data frame has', no_rows, 'rows')\n"
   ]
  },
  {
   "cell_type": "markdown",
   "id": "e5c994bf",
   "metadata": {},
   "source": [
    "You could see above, that the columns of the dataframe have labels. To see all labels:\n"
   ]
  },
  {
   "cell_type": "code",
   "execution_count": null,
   "id": "e040e114",
   "metadata": {},
   "outputs": [],
   "source": [
    "column_labels = df.columns\n",
    "\n",
    "print(column_labels)\n"
   ]
  },
  {
   "cell_type": "markdown",
   "id": "472bcbb8",
   "metadata": {},
   "source": [
    "Now we can count the labels to obtain the number of columns:\n"
   ]
  },
  {
   "cell_type": "code",
   "execution_count": null,
   "id": "7fdff376",
   "metadata": {},
   "outputs": [],
   "source": [
    "no_columns = len(column_labels)\n",
    "\n",
    "print('Data frame has', no_columns, 'columns')\n"
   ]
  },
  {
   "cell_type": "markdown",
   "id": "a8bc98e9",
   "metadata": {},
   "source": [
    "<p style='text-align: justify;'>\n",
    "And if you want to have both the number of the rows and the columns together, use `shape`. Shape returns a tuple of two numbers, first the number of rows, then the number of columns.\n",
    "</p>"
   ]
  },
  {
   "cell_type": "code",
   "execution_count": null,
   "id": "32949777",
   "metadata": {
    "lines_to_next_cell": 2
   },
   "outputs": [],
   "source": [
    "df_shape = df.shape\n",
    "\n",
    "print('Data frame has', df_shape[0], 'rows and',df_shape[1],  'columns')\n"
   ]
  },
  {
   "cell_type": "markdown",
   "id": "dcb0a981",
   "metadata": {},
   "source": [
    "Notice that `shape` (like `columns`) is not followed by round parenthesis. It is not a function that can take arguments. Technically, `shape` is a 'property' of the dataframe."
   ]
  },
  {
   "cell_type": "markdown",
   "id": "b5fbe640",
   "metadata": {},
   "source": [
    "To find out what data type is contained in each of the columns, us `dtypes`, another 'property':\n"
   ]
  },
  {
   "cell_type": "code",
   "execution_count": null,
   "id": "a4906549",
   "metadata": {
    "lines_to_next_cell": 2
   },
   "outputs": [],
   "source": [
    "df.dtypes"
   ]
  },
  {
   "cell_type": "markdown",
   "id": "cd8557c7",
   "metadata": {},
   "source": [
    "In this case, both columns contain floating point (decimal) numbers.\n",
    "\n",
    ":::::::::::::::::::::::: challenge\n",
    "\n",
    "## DIY1: Read data into a dataframe\n",
    "\n",
    "<p style='text-align: justify;'>\n",
    "Download the data file 'loan_data.csv' using the link given above in \"Materials for this Lesson\". It contains data that can be used for the assessment of loan applications. Read the data into a DataFrame. It is best to assign it a name other than 'df' (to avoid overwriting the Evereley data set).\n",
    "</p>\n",
    "\n",
    "<p style='text-align: justify;'>\n",
    "Display the first ten rows of the Loan data set to see its contents. It is taken from a [tutorial on Data Handling in Python](https://www.analyticsvidhya.com/blog/2016/01/complete-tutorial-learn-data-science-python-scratch-2/) which you might find useful for further practice.\n",
    "</p>\n",
    "\n",
    "> From this exercise we can see that a dataframe can contain different types of data: real numbers (e.g. LoanAmount), integers (ApplicantIncome), categorical data (Gender), and strings (Loan_ID).\n",
    "\n",
    "::::::::::::::::: solution"
   ]
  },
  {
   "cell_type": "code",
   "execution_count": null,
   "id": "a7292ece",
   "metadata": {
    "lines_to_next_cell": 0
   },
   "outputs": [],
   "source": [
    "from pandas import read_csv\n",
    "# dataframe from .csv file\n",
    "df_loan = read_csv(\"data/loan_data.csv\")\n",
    "# display contents\n",
    "df_loan.head(10)"
   ]
  },
  {
   "cell_type": "markdown",
   "id": "25ac32c7",
   "metadata": {},
   "source": [
    ":::::::::::::::::\n",
    "::::::::::::::::::::::::"
   ]
  },
  {
   "cell_type": "markdown",
   "id": "6c02135b",
   "metadata": {},
   "source": [
    "## Accessing data in a DataFrame\n",
    "\n",
    "<p style='text-align: justify;'>\n",
    "If a datafile is large and you only want to check the format of data in a specific column, you can limit the display to that column.\n",
    "To access data contained in a specific column of a dataframe, we can use a similar convention as in a Python dictionary, treating the column names as 'keys'. E.g. to show all rows in column 'Calcium', use:\n",
    "</p>"
   ]
  },
  {
   "cell_type": "code",
   "execution_count": null,
   "id": "dc732949",
   "metadata": {},
   "outputs": [],
   "source": [
    "df['calcium']\n"
   ]
  },
  {
   "cell_type": "markdown",
   "id": "997fed7f",
   "metadata": {},
   "source": [
    "To access individual rows of a column we use two pairs of square brackets:"
   ]
  },
  {
   "cell_type": "code",
   "execution_count": null,
   "id": "dc976137",
   "metadata": {},
   "outputs": [],
   "source": [
    "df['calcium'][0:3]\n"
   ]
  },
  {
   "cell_type": "markdown",
   "id": "38d51e19",
   "metadata": {},
   "source": [
    "<p style='text-align: justify;'>\n",
    "Here all rules for [slicing](https://docs.python.org/3/tutorial/introduction.html) can be applied.\n",
    "As for lists and tuples, the indexing of rows is semi-inclusive, lower boundary included, upper boundary excluded.\n",
    "Note that the first pair of square brackets refers to a column and the second pair refers to the rows. This is different from e.g. accessing items in a nested list.\n",
    "</p>\n",
    "\n",
    "Accessing items in a Pandas dataframe is analogous to accessing the values in a Python dictionary by referring to its keys."
   ]
  },
  {
   "cell_type": "markdown",
   "id": "bb3e6a7f",
   "metadata": {},
   "source": [
    "To access non-contiguous elements, we use an additional pair of square brackets (as if for a list within a list):\n"
   ]
  },
  {
   "cell_type": "code",
   "execution_count": null,
   "id": "3970fbfc",
   "metadata": {},
   "outputs": [],
   "source": [
    "df['calcium'][[1, 3, 7]]"
   ]
  },
  {
   "cell_type": "markdown",
   "id": "42e10be0",
   "metadata": {},
   "source": [
    "<p style='text-align: justify;'>\n",
    "Another possibility to index and slice a dataframe is the use of the 'index location' or `iloc` property. It refers first to rows and then to columns by index, all within a single pair of brackets. For example, to get all rows of the first column (index `0`), you use:\n",
    "</p>"
   ]
  },
  {
   "cell_type": "code",
   "execution_count": null,
   "id": "18d04d6d",
   "metadata": {},
   "outputs": [],
   "source": [
    "df.iloc[:, 0]"
   ]
  },
  {
   "cell_type": "markdown",
   "id": "dc038e7c",
   "metadata": {},
   "source": [
    "To display only the first three calcium concentrations, you use slicing, remembering that the upper bound is excluded):"
   ]
  },
  {
   "cell_type": "code",
   "execution_count": null,
   "id": "246f9775",
   "metadata": {},
   "outputs": [],
   "source": [
    "df.iloc[0:3, 0]"
   ]
  },
  {
   "cell_type": "markdown",
   "id": "72c87b22",
   "metadata": {},
   "source": [
    "To access non-consecutive values, we can use a pair of square brackets within the pair of square brackets:"
   ]
  },
  {
   "cell_type": "code",
   "execution_count": null,
   "id": "0e8a5f5e",
   "metadata": {},
   "outputs": [],
   "source": [
    "df.iloc[[2, 4, 7], 0]\n"
   ]
  },
  {
   "cell_type": "markdown",
   "id": "c481a706",
   "metadata": {},
   "source": [
    "Similarly, we can access the values from multiple columns:"
   ]
  },
  {
   "cell_type": "code",
   "execution_count": null,
   "id": "bbe9f6e6",
   "metadata": {},
   "outputs": [],
   "source": [
    "df.iloc[[2, 4, 7], :]\n"
   ]
  },
  {
   "cell_type": "markdown",
   "id": "8c5104da",
   "metadata": {},
   "source": [
    "To pick only the even rows from the two columns, check this colon notation:"
   ]
  },
  {
   "cell_type": "code",
   "execution_count": null,
   "id": "e44c2d23",
   "metadata": {},
   "outputs": [],
   "source": [
    "df.iloc[:18:2, :]\n"
   ]
  },
  {
   "cell_type": "markdown",
   "id": "2313f519",
   "metadata": {},
   "source": [
    "The number after the second colon indicates the stepsize.\n",
    "\n",
    ":::::::::::::::::::::::::::::::::: challenge\n",
    "\n",
    "## DIY2: Select data from dataframe\n",
    "\n",
    "Display the calcium and sodium concentrations of all patients except the first. Check the model solution at the bottom for options.\n",
    "\n",
    "::::::::::::::::: solution"
   ]
  },
  {
   "cell_type": "code",
   "execution_count": null,
   "id": "86181f0b",
   "metadata": {},
   "outputs": [],
   "source": [
    "df[['calcium', 'sodium']][1:]"
   ]
  },
  {
   "cell_type": "markdown",
   "id": "bfe7cccf",
   "metadata": {},
   "source": [
    ":::::::::::::::::\n",
    "\n",
    "::::::::::::::::::::::::::::::::::\n",
    "\n",
    "Mixing the ways to access specific data in a dataframe can be confusing and needs practice.\n",
    "\n",
    "### **Search for missing values**\n",
    "\n",
    "Some tables contain missing entries. You can check a dataframe for such missing entries. If no missing entry is found, the function `isnull` will return `False`.\n"
   ]
  },
  {
   "cell_type": "code",
   "execution_count": null,
   "id": "5399bf63",
   "metadata": {},
   "outputs": [],
   "source": [
    "df.isnull().any()\n"
   ]
  },
  {
   "cell_type": "markdown",
   "id": "f50fe3c2",
   "metadata": {},
   "source": [
    "This shows that there are no missing entries in our dataframe.\n",
    "\n",
    ":::::::::::::::::::::::::::::::::: challenge\n",
    "## DIY3: Find NaN in dataframe\n",
    "\n",
    "In the Loan data set, check the entry 'Self-employed' for ID LP001059. It shows how a missing value is represented as 'NaN' (not a number).\n",
    "\n",
    " Verify that the output of `isnull` in this case is `True`\n",
    "\n",
    "::::::::::::::::: solution"
   ]
  },
  {
   "cell_type": "code",
   "execution_count": null,
   "id": "ab344b19",
   "metadata": {
    "lines_to_next_cell": 2
   },
   "outputs": [],
   "source": [
    "df_loan['Self_Employed'][8]"
   ]
  },
  {
   "cell_type": "code",
   "execution_count": null,
   "id": "e3bfc60b",
   "metadata": {},
   "outputs": [],
   "source": [
    "df_loan['Self_Employed'][8:9].isnull()"
   ]
  },
  {
   "cell_type": "markdown",
   "id": "fd5f4d2d",
   "metadata": {},
   "source": [
    ":::::::::::::::::\n",
    "\n",
    "::::::::::::::::::::::::::::::::::"
   ]
  },
  {
   "cell_type": "markdown",
   "id": "3fceacdd",
   "metadata": {},
   "source": [
    "## Basic data features\n",
    "\n",
    "### **Summary Statistics**\n",
    "\n",
    "To get a summary of basic data features use the function `describe`:\n"
   ]
  },
  {
   "cell_type": "code",
   "execution_count": null,
   "id": "ea3d7545",
   "metadata": {},
   "outputs": [],
   "source": [
    "description = df.describe()\n",
    "\n",
    "description\n"
   ]
  },
  {
   "cell_type": "markdown",
   "id": "050f5d8c",
   "metadata": {},
   "source": [
    "<p style='text-align: justify;'>\n",
    "The `describe` function produces a new dataframe (here called 'description') that contains the number of samples, the mean, the standard deviation, minimum, 25th, 50th, 75th  percentile, and the maximum value for each column of the data. Note that the indices of the rows have now been replaced by strings. To access rows, it is possible to refer to those names using the `loc` property. E.g. to access the mean of the calcium concentrations from the description, each of the following is valid:\n",
    "</p>\n"
   ]
  },
  {
   "cell_type": "code",
   "execution_count": null,
   "id": "f1ab52ff",
   "metadata": {
    "results": "hold"
   },
   "outputs": [],
   "source": [
    "# Option 1\n",
    "description.loc['mean']['calcium']\n",
    "\n",
    "# Option 2\n",
    "description.loc['mean'][0]\n",
    "\n",
    "# Option 3\n",
    "description['calcium']['mean']\n",
    "\n",
    "# Option 4\n",
    "description['calcium'][1]\n"
   ]
  },
  {
   "cell_type": "markdown",
   "id": "ce9125f1",
   "metadata": {},
   "source": [
    ":::::::::::::::::::::::::::::::::: challenge\n",
    "## DIY4: Practice\n",
    "\n",
    "<p style='text-align: justify;'>\n",
    "Use your own .csv data set to practice. (If you don't have a data set at hand, any excel table can be exported as .csv.) Read it into a dataframe, check its header, access individual values or sets of values. Create a statistics using `describe` and check for missing values using `.isnull`.\n",
    "</p>\n",
    "\n",
    "::::::::::::::::: solution\n",
    " [ad libitum]\n",
    ":::::::::::::::::\n",
    "\n",
    "::::::::::::::::::::::::::::::::::\n",
    "\n",
    "### **Iterating through the columns**\n",
    "\n",
    "Now we know how to access all data in a dataframe and how to get a summary statistics over each column.\n",
    "\n",
    "Here is code to iterate through the columns and access the first two concentrations:\n"
   ]
  },
  {
   "cell_type": "code",
   "execution_count": null,
   "id": "8c24e282",
   "metadata": {},
   "outputs": [],
   "source": [
    "for col in df:\n",
    "\n",
    "    print(df[col][0:2])\n"
   ]
  },
  {
   "cell_type": "markdown",
   "id": "810f75ee",
   "metadata": {},
   "source": [
    "As a slightly more complex example, we access the median ('50%') of each column in the description and add it to a list:\n"
   ]
  },
  {
   "cell_type": "code",
   "execution_count": null,
   "id": "2629a5bc",
   "metadata": {
    "results": "hold"
   },
   "outputs": [],
   "source": [
    "conc_medians = list()\n",
    "\n",
    "for col in df:\n",
    "\n",
    "    conc_medians.append(df[col].describe()['50%'])\n",
    "\n",
    "print('The columns are: ', list(df.columns))\n",
    "print('The medians are: ', conc_medians)\n"
   ]
  },
  {
   "cell_type": "markdown",
   "id": "25d05068",
   "metadata": {},
   "source": [
    "<p style='text-align: justify;'>\n",
    "This approach is useful for data frames with a large number of columns. For instance, it is possible to then create a boxplot or histogram for the means, medians etc. of the dataframe and thus to get an overview of all (comparable) columns.\n",
    "</p>\n",
    "\n",
    "### **Selecting a subset based on a template**\n",
    "\n",
    "<p style='text-align: justify;'>\n",
    "An analysis of a data set may need to be done on part of the data. This can often be formulated by using a logical condition which specifies the required subset.\n",
    "</p>\n",
    "\n",
    "<p style='text-align: justify;'>\n",
    "For this we will assume that some of the data are labelled '0' and some are labelled '1'. Let us therefore see how to add a new column to our Evereleys data frame which contains the (in this case arbitrary) labels.\n",
    "</p>\n",
    "\n",
    "<p style='text-align: justify;'>\n",
    "First we randomly create as many labels as we have rows in the data frame. We can use the `randint` function which we import from 'numpy.random'. `randint` in its simple form takes two arguments. First the upper bound of the integer needed, where by default it starts from zero. As Python is exclusive on the upper bound, providing '2' will thus yield either '0' or '1' only.\n",
    "</p>"
   ]
  },
  {
   "cell_type": "code",
   "execution_count": null,
   "id": "f4d10f0b",
   "metadata": {
    "results": "hold"
   },
   "outputs": [],
   "source": [
    "from numpy.random import randint\n",
    "\n",
    "no_rows = len(df)\n",
    "\n",
    "randomLabel = randint(2, size=no_rows)\n",
    "\n",
    "print('Number of rows:  ', no_rows)\n",
    "print('Number of Labels:', len(randomLabel))\n",
    "print('Labels:          ', randomLabel)\n"
   ]
  },
  {
   "cell_type": "markdown",
   "id": "7313298d",
   "metadata": {},
   "source": [
    "Note how we obtain the number of rows (18) using `len` and do not put it directly into the code.\n",
    "\n",
    "<p style='text-align: justify;'>\n",
    "Now we create a new data column in our `df` dataframe which contains the labels. To create a new column, you can simply refer to a column name that does not yet exist and assign values to it. Let us call it 'gender', assuming that '0' represents male and '1' represents female.\n",
    "</p>\n",
    "\n",
    "As gender specification can include more than two labels, try to create a column with more than two randomly assigned labels e.g. (0, 1, 2)."
   ]
  },
  {
   "cell_type": "code",
   "execution_count": null,
   "id": "fafe8aca",
   "metadata": {},
   "outputs": [],
   "source": [
    "df['gender'] = randomLabel\n",
    "\n",
    "df.head()"
   ]
  },
  {
   "cell_type": "markdown",
   "id": "20e350a1",
   "metadata": {},
   "source": [
    "<p style='text-align: justify;'>\n",
    "Now we can use the information contained in 'gender' to filter the data by gender. To achieve this, we use a conditional statement. Let us check which of the rows are labelled as '1':\n",
    "</p>"
   ]
  },
  {
   "cell_type": "code",
   "execution_count": null,
   "id": "7314f4ae",
   "metadata": {},
   "outputs": [],
   "source": [
    "df['gender'] == 1"
   ]
  },
  {
   "cell_type": "markdown",
   "id": "701bd107",
   "metadata": {},
   "source": [
    "<p style='text-align: justify;'>\n",
    "If we assign the result of the conditional statement (Boolean True or False) to a variable, then this variable can act as a template to filter the data. If we call the data frame with that variable, we will only get the rows where the condition was found to be True:\n",
    "</p>"
   ]
  },
  {
   "cell_type": "code",
   "execution_count": null,
   "id": "bba197cb",
   "metadata": {},
   "outputs": [],
   "source": [
    "df_female = df['gender'] == 1\n",
    "\n",
    "df[df_female]\n"
   ]
  },
  {
   "cell_type": "markdown",
   "id": "358ebbbb",
   "metadata": {},
   "source": [
    "Using the Boolean, we only pick the rows that are labelled '1' and thus get a subset of the data according to the label.\n",
    "\n",
    ":::::::::::::::::::::::::::::::::: challenge\n",
    "\n",
    "## DIY5: Using a template\n",
    "\n",
    "Modify the code to calculate the number of samples labelled 0 and check the number of rows of that subset.\n",
    "\n",
    "::::::::::::::::: solution"
   ]
  },
  {
   "cell_type": "code",
   "execution_count": null,
   "id": "15a12f0a",
   "metadata": {
    "lines_to_next_cell": 0,
    "results": "hold"
   },
   "outputs": [],
   "source": [
    "from numpy.random import randint\n",
    "no_rows = len(df)\n",
    "randomLabel = randint(2, size=no_rows)\n",
    "df['gender'] = randomLabel\n",
    "df_male = df['gender'] == 0\n",
    "no_males = len(df[df_male])\n",
    "print(no_males, 'samples are labelled \"male\".')"
   ]
  },
  {
   "cell_type": "markdown",
   "id": "3ad9b4d9",
   "metadata": {},
   "source": [
    ":::::::::::::::::\n",
    "::::::::::::::::::::::::::::::::::\n",
    "\n",
    "## Visualisation of data\n",
    "<p style='text-align: justify;'>\n",
    "It is easy to see from the numbers that the concentrations of sodium are much higher than that of calcium. However, to also compare the medians, percentiles and the spread of the data it is better to use visualisation.\n",
    "</p>\n",
    "\n",
    "<p style='text-align: justify;'>\n",
    "The simplest way of visualisation is to use Pandas functionality which offers direct ways of plotting. Here is an example where a boxplot is created for each column:\n",
    "</p>\n"
   ]
  },
  {
   "cell_type": "code",
   "execution_count": null,
   "id": "e28fc10c",
   "metadata": {},
   "outputs": [],
   "source": [
    "df = read_csv(\"data/everleys_data.csv\")\n",
    "df.boxplot()\n"
   ]
  },
  {
   "cell_type": "markdown",
   "id": "86b5c9dd",
   "metadata": {},
   "source": [
    "<p style='text-align: justify;'>\n",
    "By default, boxplots are shown for all columns if no further argument is given to the function (empty round parenthesis). As the calcium plot is rather squeezed we may wish to see it individually. This can be done by specifying the calcium column as an argument:\n",
    "</p>"
   ]
  },
  {
   "cell_type": "code",
   "execution_count": null,
   "id": "e17722c6",
   "metadata": {},
   "outputs": [],
   "source": [
    "# Boxplot of calcium results\n",
    "df.boxplot(column='calcium')\n"
   ]
  },
  {
   "cell_type": "markdown",
   "id": "0624d2e6",
   "metadata": {},
   "source": [
    "## Plots using Matplotlib\n",
    "\n",
    "> [__Matplotlib__](https://matplotlib.org) is a comprehensive library for creating static, animated, and interactive visualizations in Python.\n",
    "\n",
    "<p style='text-align: justify;'>\n",
    "The above is an easy way to create boxplots directly on the dataframe. It is based on the library Matplotlib and specifically uses the __pyplot library__. For simplicity, the code is put in a convenient Pandas function.\n",
    "</p>\n",
    "\n",
    "<p style='text-align: justify;'>\n",
    "However, we are going to use __Matplotlib__ extensively later on in the course, and we therefore now introduce the direct, generic way of using it.\n",
    "</p>\n",
    "\n",
    "For this, we import the function `subplots` from the [pyplot library](https://matplotlib.org/stable/api/pyplot_summary.html):"
   ]
  },
  {
   "cell_type": "code",
   "execution_count": null,
   "id": "0dc793de",
   "metadata": {},
   "outputs": [],
   "source": [
    "from matplotlib.pyplot import subplots, show\n"
   ]
  },
  {
   "cell_type": "markdown",
   "id": "97f8d8a6",
   "metadata": {},
   "source": [
    "<p style='text-align: justify;'>\n",
    "The way to use `subplots` is to first set up a figure environment (below it is called 'fig') and an empty coordinate system (below called 'ax'). The plot is then done using one of the many methods available in Matplotlib. We apply it to the coordinate system 'ax'.\n",
    "</p>\n",
    "\n",
    "<p style='text-align: justify;'>\n",
    "As an example, let us create a [boxplot](https://matplotlib.org/api/_as_gen/matplotlib.pyplot.boxplot.html#matplotlib.pyplot.boxplot|) of the calcium variable. As an argument of the function we need to specify the data. We can use the values of the 'calcium' concentrations from the column with that name:\n",
    "</p>"
   ]
  },
  {
   "cell_type": "code",
   "execution_count": null,
   "id": "4b9e8476",
   "metadata": {
    "collapse": true,
    "tags": [
     "remove_output"
    ]
   },
   "outputs": [],
   "source": [
    "fig, ax = subplots()\n",
    "\n",
    "ax.boxplot(df['calcium'])\n",
    "\n",
    "ax.set_title('Boxplot of Everley Calcium')\n",
    "\n",
    "show()"
   ]
  },
  {
   "cell_type": "markdown",
   "id": "4d83ae8b",
   "metadata": {},
   "source": [
    "Note how following the actual plot we define the title of the plot by referring to the same coordinate system `ax`.\n",
    "\n",
    "The value of `subplots` becomes apparent when we try to create more than one plot in a single figure.\n",
    "\n",
    "<p style='text-align: justify;'>\n",
    "Here is an example to create two boxplots next to each other. The keyword arguments to use is 'ncols' which is the number of figures per row. 'ncols=2' indicates that you want to have two plots next to each other.\n",
    "</p>"
   ]
  },
  {
   "cell_type": "code",
   "execution_count": null,
   "id": "ae9b0e02",
   "metadata": {
    "collapse": true,
    "tags": [
     "remove_output"
    ]
   },
   "outputs": [],
   "source": [
    "fig, ax = subplots(ncols=2)\n",
    "\n",
    "ax[0].boxplot(df['calcium'])\n",
    "ax[0].set_title('Calcium')\n",
    "\n",
    "ax[1].boxplot(df['sodium'])\n",
    "ax[1].set_title('Sodium');\n",
    "\n",
    "show()\n"
   ]
  },
  {
   "cell_type": "markdown",
   "id": "f6bb4858",
   "metadata": {},
   "source": [
    "Note that you now have to refer to each of the subplots by indexing the coordinate system 'ax'. This figure gives a good overview of the Everley's data."
   ]
  },
  {
   "cell_type": "markdown",
   "id": "3c574a10",
   "metadata": {},
   "source": [
    "If you prefer to have the boxplots of both columns in a single figure, that can also be done:\n"
   ]
  },
  {
   "cell_type": "code",
   "execution_count": null,
   "id": "4f92d5cd",
   "metadata": {
    "collapse": true,
    "lines_to_next_cell": 2,
    "tags": [
     "remove_output"
    ]
   },
   "outputs": [],
   "source": [
    "fig, ax = subplots(ncols=1, nrows=1)\n",
    "\n",
    "ax.boxplot([df['calcium'], df['sodium']], positions=[1, 2])\n",
    "ax.set_title('Boxplot of Calcium (left) and Sodium (right)')\n",
    "\n",
    "show()"
   ]
  },
  {
   "cell_type": "markdown",
   "id": "63affc2e",
   "metadata": {},
   "source": [
    ":::::::::::::::::::::::::::::: challenge\n",
    "### DIY6: Boxplot from Loan data\n",
    "\n",
    "Plot the boxplots of the 'ApplicantIncome' and the 'CoapplicantIncome' in the Loan data using the above code.\n",
    "\n",
    "::::::::::::::::: solution"
   ]
  },
  {
   "cell_type": "code",
   "execution_count": null,
   "id": "05578290",
   "metadata": {
    "collapse": true,
    "tags": [
     "remove_output"
    ]
   },
   "outputs": [],
   "source": [
    "fig, ax = subplots(ncols=1, nrows=1)\n",
    "ax.boxplot([df_loan['ApplicantIncome'], df_loan['CoapplicantIncome']], positions=[1, 2])\n",
    "ax.set_title('Applicant Income (left) & Co-Applicant Income (right)');\n",
    "\n",
    "show()"
   ]
  },
  {
   "cell_type": "markdown",
   "id": "2ee441f0",
   "metadata": {},
   "source": [
    ":::::::::::::::::\n",
    "::::::::::::::::::::::::::::::\n",
    "\n",
    "### **Histogram**\n",
    "<p style='text-align: justify;'>\n",
    "Another good overview is the histogram: Containers or 'bins' are created over the range of values found within a column and the count of the values for each bin is plotted on the vertical axis.\n",
    "</p>"
   ]
  },
  {
   "cell_type": "code",
   "execution_count": null,
   "id": "9cc454ca",
   "metadata": {
    "collapse": true,
    "lines_to_next_cell": 2,
    "tags": [
     "remove_output"
    ]
   },
   "outputs": [],
   "source": [
    "fig, ax = subplots(ncols=2, nrows=1)\n",
    "\n",
    "ax[0].hist(df['calcium'])\n",
    "ax[0].set(xlabel='Calcium', ylabel='Count');\n",
    "\n",
    "ax[1].hist(df['sodium'])\n",
    "ax[1].set(xlabel='Sodium', ylabel='Count');\n",
    "\n",
    "fig.suptitle('Histograms of Everley concentrations', fontsize=15);\n",
    "\n",
    "show()"
   ]
  },
  {
   "cell_type": "markdown",
   "id": "11a94d7a",
   "metadata": {},
   "source": [
    "This also shows how to add labels to the axes and a title to the overall figure.\n",
    "\n",
    "This uses the default value for the generation of the bins. It is set to 10 bins over the range of which values are found. The number of bins in the histogram can be changed using the keyword argument 'bins':\n"
   ]
  },
  {
   "cell_type": "code",
   "execution_count": null,
   "id": "b660fc7e",
   "metadata": {
    "collapse": true,
    "lines_to_next_cell": 2,
    "tags": [
     "remove_output"
    ]
   },
   "outputs": [],
   "source": [
    "fig, ax = subplots(ncols=2, nrows=1)\n",
    "\n",
    "ax[0].hist(df['calcium'], bins=5)\n",
    "ax[0].set(xlabel='Calcium, 5 bins', ylabel='Count');\n",
    "\n",
    "ax[1].hist(df['calcium'], bins=15)\n",
    "ax[1].set(xlabel='Calcium, 15 bins', ylabel='Count');\n",
    "fig.suptitle('Histograms with Different Binnings', fontsize=16);\n",
    "\n",
    "show()"
   ]
  },
  {
   "cell_type": "markdown",
   "id": "9a2fa493",
   "metadata": {},
   "source": [
    "Note how the y-label of the right figure is not placed well. To correct for the placement of the labels and the title, you can use\n",
    "`tight_layout` on the figure:"
   ]
  },
  {
   "cell_type": "code",
   "execution_count": null,
   "id": "dfbd894d",
   "metadata": {
    "collapse": true,
    "tags": [
     "remove_output"
    ]
   },
   "outputs": [],
   "source": [
    "fig, ax = subplots(ncols=2, nrows=1)\n",
    "\n",
    "ax[0].hist(df['calcium'], bins=5)\n",
    "ax[0].set(xlabel='Calcium, 5 bins', ylabel='Count');\n",
    "\n",
    "ax[1].hist(df['calcium'], bins=15)\n",
    "ax[1].set(xlabel='Calcium, 15 bins', ylabel='Count');\n",
    "fig.suptitle('Histograms with Different Binnings', fontsize=16);\n",
    "fig.tight_layout()\n",
    "\n",
    "show()"
   ]
  },
  {
   "cell_type": "markdown",
   "id": "5286c3a1",
   "metadata": {},
   "source": [
    "::::::::::::::::::::::::::::::: challenge\n",
    "## DIY7: Create the histogram of a column\n",
    "\n",
    "Take the loan data and display the histogram of the loan amount that people asked for. (Loan amounts are divided by 1000, i.e. in k£ on the horizontal axis).  Use e.g. 20 bins.\n",
    "\n",
    "::::::::::::::::: solution\n"
   ]
  },
  {
   "cell_type": "code",
   "execution_count": null,
   "id": "8e278b75",
   "metadata": {
    "collapse": true,
    "tags": [
     "remove_output"
    ]
   },
   "outputs": [],
   "source": [
    "# Histogram of loan amounts in k£\n",
    "fig, ax = subplots()\n",
    "ax.hist(df_loan['LoanAmount'], bins=20)\n",
    "ax.set(xlabel='Loan amount', ylabel='Count');\n",
    "ax.set_title('Histograms of Loan Amounts', fontsize=16);\n",
    "\n",
    "show()"
   ]
  },
  {
   "cell_type": "markdown",
   "id": "3f74394d",
   "metadata": {},
   "source": [
    ":::::::::::::::::\n",
    ":::::::::::::::::::::::::::::::\n",
    "\n",
    "## Handling the Diabetes Data Set\n",
    "\n",
    "We now return to the data set that started our enquiry into the handling of data in a dataframe.\n",
    "\n",
    "We will now:\n",
    "\n",
    "- Import the diabetes data from 'sklearn'\n",
    "- Check the shape of the dataframe and search for NANs\n",
    "- Get a summary plot of one of its statistical quantities (e.g. mean) for all columns\n",
    "\n",
    "First we import the data set and check its `head`. Wait until the numbers show below the code, it might take a while.\n"
   ]
  },
  {
   "cell_type": "code",
   "execution_count": null,
   "id": "247d3da1",
   "metadata": {
    "results": "hold"
   },
   "outputs": [],
   "source": [
    "from sklearn import datasets\n",
    "\n",
    "diabetes = datasets.load_diabetes()\n",
    "\n",
    "X = diabetes.data\n",
    "\n",
    "from pandas import DataFrame\n",
    "\n",
    "df_diabetes = DataFrame(data=X)\n",
    "\n",
    "df_diabetes.head()\n"
   ]
  },
  {
   "cell_type": "markdown",
   "id": "c72d2605",
   "metadata": {},
   "source": [
    "If you don't see all columns, use the cursor to scroll to the right.\n",
    "Now let's check the number of columns and rows.\n"
   ]
  },
  {
   "cell_type": "code",
   "execution_count": null,
   "id": "aadff65c",
   "metadata": {},
   "outputs": [],
   "source": [
    "no_rows = len(df_diabetes)\n",
    "no_cols = len(df_diabetes.columns)\n",
    "\n",
    "print('Rows:', no_rows, 'Columns:', no_cols)\n"
   ]
  },
  {
   "cell_type": "markdown",
   "id": "5f4b5a16",
   "metadata": {},
   "source": [
    "There are 442 rows organised in 10 columns.\n",
    "\n",
    "To get an overview, let us extract the mean of each column using 'describe' and plot all means as a bar chart. The Matplotlib function to plot a bar chart is `bar`:"
   ]
  },
  {
   "cell_type": "code",
   "execution_count": null,
   "id": "1915adee",
   "metadata": {
    "results": "hold"
   },
   "outputs": [],
   "source": [
    "conc_means = list()\n",
    "\n",
    "for col in df_diabetes:\n",
    "    conc_means.append(df_diabetes[col].describe()['mean'])\n",
    "\n",
    "print('The columns are: ', list(df_diabetes.columns))\n",
    "print('The medians are: ', conc_means, 2)"
   ]
  },
  {
   "cell_type": "code",
   "execution_count": null,
   "id": "49b4a7f5",
   "metadata": {
    "collapse": true,
    "tags": [
     "remove_output"
    ]
   },
   "outputs": [],
   "source": [
    "fig, ax = subplots()\n",
    "\n",
    "bins = range(10)\n",
    "\n",
    "ax.bar(bins, conc_means);\n",
    "\n",
    "show()"
   ]
  },
  {
   "cell_type": "markdown",
   "id": "c35d4163",
   "metadata": {},
   "source": [
    "<p style='text-align: justify;'>\n",
    "The bars in this plot go up and down. Note, however, that the vertical axis has values ranging from -10^(-16)^ to +10^(-16)^. This means that for all practical purposes all means are zero. This is not a coincidence. The original values have been normalised to zero mean for the purpose of applying some machine learning algorithm to them.\n",
    "</p>\n",
    "\n",
    "In this example, we see how important it is to check the data before working with them.\n",
    "\n",
    "## Exercises\n",
    ":::::::::::::::::::::::::::::::::::::::: challenge\n",
    "\n",
    "#### End of chapter Exercises\n",
    "\n",
    "Download the cervical cancer data set provided, import it using `read_csv`.\n",
    "\n",
    "1. How many rows and columns are there?\n",
    "\n",
    "2. How many columns contain floating point numbers (float64)?\n",
    "\n",
    "3. How many of the subjects are smokers?\n",
    "\n",
    "4. Calculate the percentage of smokers\n",
    "\n",
    "5. Plot the age distribution (with e.g. 50 bins)\n",
    "\n",
    "6. Get the mean and standard distribution of age of first sexual intercourse\n",
    "\n",
    "::::::::::::::::::::: solution\n",
    "\n",
    "## Please check these solutions only after submitting the assignments.\n",
    "\n",
    "### Q1"
   ]
  },
  {
   "cell_type": "code",
   "execution_count": null,
   "id": "34bacc48",
   "metadata": {
    "results": "hold"
   },
   "outputs": [],
   "source": [
    "df_cervix = read_csv(\"data/cervical_cancer.csv\")\n",
    "\n",
    "df_cervix.head(10)\n",
    "\n",
    "\n",
    "cervix_rows, cervix_cols = len(df_cervix), len(df_cervix.columns)\n",
    "\n",
    "print('Number of rows:', cervix_rows)\n",
    "print('Number of columns:', cervix_cols)\n"
   ]
  },
  {
   "cell_type": "markdown",
   "id": "427885e8",
   "metadata": {},
   "source": [
    "### Q2"
   ]
  },
  {
   "cell_type": "code",
   "execution_count": null,
   "id": "8b8992a2",
   "metadata": {},
   "outputs": [],
   "source": [
    "df_types = df_cervix.dtypes == 'float64'\n",
    "\n",
    "print('There are', df_types.sum(), 'columns with floating point numbers')\n",
    "\n",
    "\n",
    "df_types\n"
   ]
  },
  {
   "cell_type": "markdown",
   "id": "d1871310",
   "metadata": {},
   "source": [
    "### Q3"
   ]
  },
  {
   "cell_type": "code",
   "execution_count": null,
   "id": "fa5e182b",
   "metadata": {
    "results": "hold"
   },
   "outputs": [],
   "source": [
    "for col in df_cervix:\n",
    "\n",
    "    print(type(df_cervix[col][0]))\n",
    "\n",
    "\n",
    "cervix_smoker = df_cervix['Smokes'] == 1.0\n"
   ]
  },
  {
   "cell_type": "markdown",
   "id": "b04df92c",
   "metadata": {},
   "source": [
    "### Q4"
   ]
  },
  {
   "cell_type": "code",
   "execution_count": null,
   "id": "db2c496a",
   "metadata": {
    "results": "hold"
   },
   "outputs": [],
   "source": [
    "print('There are', cervix_smoker.sum(), 'smokers.')\n",
    "print('This is', round(100*cervix_smoker.sum() / cervix_rows, 1), '% of the total.')\n"
   ]
  },
  {
   "cell_type": "markdown",
   "id": "ab1668a4",
   "metadata": {
    "lines_to_next_cell": 0
   },
   "source": [
    "### Q5"
   ]
  },
  {
   "cell_type": "code",
   "execution_count": null,
   "id": "8de1e548",
   "metadata": {
    "collapse": true,
    "tags": [
     "remove_output"
    ]
   },
   "outputs": [],
   "source": [
    "fig, ax = subplots()\n",
    "\n",
    "ax.hist(df_cervix['Age'], bins=50)\n",
    "ax.set_xlabel('Age', fontsize=20)\n",
    "ax.set_ylabel('Count', fontsize=20)\n",
    "ax.set_title('Age distribution of subjects',  fontsize=24);\n",
    "show()"
   ]
  },
  {
   "cell_type": "markdown",
   "id": "4159e134",
   "metadata": {},
   "source": [
    "### Q6"
   ]
  },
  {
   "cell_type": "code",
   "execution_count": null,
   "id": "7396168e",
   "metadata": {
    "results": "hold"
   },
   "outputs": [],
   "source": [
    "int_mean = df_cervix['First sexual intercourse'].mean()\n",
    "\n",
    "int_std = df_cervix['First sexual intercourse'].std()\n",
    "\n",
    "print('Mean of age of first sexual intercourse: ', round(int_mean, 1))\n",
    "print('Standard distribution of age of first sexual intercourse: ', round(int_std, 1))\n"
   ]
  },
  {
   "cell_type": "markdown",
   "id": "e13b2e3e",
   "metadata": {},
   "source": [
    ":::::::::::::::::::::\n",
    "\n",
    "::::::::::::::::::::::::::::::::::::::::\n",
    "\n",
    "::::::::::::::::::::::::::::::::::::: keypoints\n",
    "\n",
    "- `Pandas` package contains useful functions to work with dataframes.\n",
    "- `iloc` property is used to index and slice a dataframe.\n",
    "- `describe` function is used to get a summary of basic data features.\n",
    "- The simplest way of visualisation is to use Pandas functionality.\n",
    "- `Matplotlib` is a comprehensive library for creating static, animated, and interactive visualizations in Python.\n",
    "::::::::::::::::::::::::::::::::::::::::::::::::"
   ]
  },
  {
   "cell_type": "markdown",
   "id": "24853ce9",
   "metadata": {},
   "source": [
    "[r-markdown]: https://rmarkdown.rstudio.com/"
   ]
  }
 ],
 "metadata": {
  "jupytext": {
   "cell_metadata_filter": "tags,collapse,results,-all",
   "main_language": "python",
   "notebook_metadata_filter": "-all"
  }
 },
 "nbformat": 4,
 "nbformat_minor": 5
}
