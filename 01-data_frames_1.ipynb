{
 "cells": [
  {
   "cell_type": "raw",
   "id": "53ae5a0f",
   "metadata": {},
   "source": [
    "---\n",
    "title: \"DataFrames - Part 1\"\n",
    "teaching: 60\n",
    "exercises: 60\n",
    "---"
   ]
  },
  {
   "cell_type": "markdown",
   "id": "4506b881",
   "metadata": {},
   "source": [
    "[**Download Chapter notebook (ipynb)**](01-data_frames_1.ipynb)\n",
    "\n",
    "[<span style=\"color: rgb(255, 0, 0);\">**Mandatory Lesson Feedback Survey**</span>](https://docs.google.com/forms/d/e/1FAIpQLSdr0capF7jloJhPH3Pki1B3LZoKOG16poOpuVJ7SL2LkwLHQA/viewform?pli=1)\n",
    "\n"
   ]
  },
  {
   "cell_type": "markdown",
   "id": "a03a3542",
   "metadata": {},
   "source": [
    "::::::::::::::::::::::::::::::::::::: questions\n",
    "\n",
    "- What is a Dataframe, and how can we read data into one?\n",
    "- What are the different methods for manipulating data in Dataframes?\n",
    "- What makes data visualisation simple, in Python?\n",
    "\n",
    "::::::::::::::::::::::::::::::::::::::::::::::::\n",
    "\n",
    "::::::::::::::::::::::::::::::::::::: objectives\n",
    "- Import a dataset as a Pandas Dataframe\n",
    "- Inspect a Dataframe and access data\n",
    "- Produce an overview of data features\n",
    "- Create data plots using Matplotlib\n",
    "::::::::::::::::::::::::::::::::::::::::::::::::\n",
    "\n",
    "<br>\n",
    "<p align = \"center\">\n",
    "<iframe width=\"560\" height=\"315\" src=\"https://www.youtube.com/embed/jdWOAzK81VE\" title=\"YouTube video player\" frameborder=\"0\" allow=\"accelerometer; autoplay; clipboard-write; encrypted-media; gyroscope; picture-in-picture\" allowfullscreen></iframe>\n",
    "</p>\n",
    "<br>\n",
    "\n",
    "<p align = \"center\">\n",
    "<iframe width=\"560\" height=\"315\" src=\"https://www.youtube.com/embed/zw6t3yHEqGU\" title=\"YouTube video player\" frameborder=\"0\" allow=\"accelerometer; autoplay; clipboard-write; encrypted-media; gyroscope; picture-in-picture\" allowfullscreen></iframe>\n",
    "</p>\n",
    "<br>\n",
    "\n",
    "<p align = \"center\">\n",
    "<iframe width=\"560\" height=\"315\" src=\"https://www.youtube.com/embed/mljXcIzx4ps\" title=\"YouTube video player\" frameborder=\"0\" allow=\"accelerometer; autoplay; clipboard-write; encrypted-media; gyroscope; picture-in-picture\" allowfullscreen></iframe>\n",
    "</p>\n",
    "<br>\n",
    "\n",
    ":::::::::::::::::: prereq\n",
    "\n",
    "## Prerequisites\n",
    "\n",
    "- [Indexing of arrays](https://learntodiscover.github.io/Basic_Python/04-arrays.html#sec:list:indexing)\n",
    "- [For-loop through an array](https://learntodiscover.github.io/Basic_Python/05-iterations.html#retaining-the-new-values)\n",
    "- Basic statistics (distributions, mean, median and standard deviation)\n",
    "\n",
    "::::::::::::::::::\n",
    "\n",
    ":::::::::::::::::::::::::::::::::::::::::::::::::::::::::::::::::::: instructor\n",
    "\n",
    "The diabetes data set is one of the challenging task.\n",
    "\n",
    "::::::::::::::::::::::::::::::::::::::::::::::::::::::::::::::::::::::::::::::::"
   ]
  },
  {
   "cell_type": "markdown",
   "id": "aa6a4862",
   "metadata": {},
   "source": [
    "## Challenge: The diabetes dataset\n",
    "<p style='text-align: justify;'>\n",
    "Here is a screenshot of a diabetes dataset. It is taken from\n",
    "[this webpage](https://www4.stat.ncsu.edu/~boos/var.select/diabetes.tab.txt), and is one of the [example datasets](https://scikit-learn.org/stable/modules/generated/sklearn.datasets.load_diabetes.html) used to illustrate machine learning functionality in scikit-learn (Part II of the L2D course).\n",
    "</p>\n",
    "\n",
    "![](fig/diabetes_data_screenshot.png \"Screenshot of Diabetes Data\")\n",
    "\n",
    "<p style='text-align: justify;'>\n",
    "This figure captures only the top part of the data. On the webpage, you will need to scroll down considerably to view all of it. Thus, our first data science task, will be to obtain an overview of this datset.\n",
    "</p>\n",
    "\n",
    "::::::::::::::::::::::::::::::::::::: callout\n",
    "\n",
    "## The lesson\n",
    "\n",
    "- Introduces code to read and inspect the data\n",
    "- Works with a specific Dataframe and explains methods used to get an overview of the data\n",
    "- Discusses the concept of 'distribution' as a way of summarising data within a single figure\n"
   ]
  },
  {
   "cell_type": "markdown",
   "id": "5fe9f0a2",
   "metadata": {},
   "source": [
    ":::::::: checklist\n",
    "\n",
    "### To familiarise yourself with a dataset you need to:\n",
    "\n",
    "- Access the data\n",
    "- Check the content\n",
    "- Produce a summary of basic properties\n",
    "\n",
    "::::::::\n",
    "\n",
    "<p style='text-align: justify;'>\n",
    "In this lesson we will look solely at univariate features, where each data columns are studied independently of the others in the datasets. Further properties and bivariate features will be the topic of the next lesson.\n",
    "</p>\n",
    "\n",
    "::::::::::::::::::::::::::::::::::::::::::::::::\n",
    "\n",
    "## Work-Through Example\n",
    "\n",
    ":::::::::::::::::::::::::::::::::::::::::::::::: discussion\n",
    "\n",
    "## Reading data into a Pandas DataFrame\n",
    "\n",
    "<p style='text-align: justify;'>\n",
    "The small practice data file for this section is called 'everleys_data.csv', and can be downloaded using the link given above in [Summary and Setup](../learners/setup.md) for this Lesson. To start, please create a subfolder called 'data' in the current directory and put the data file in it. It can now be accessed using the relative path `data/everleys_data.csv` or `data\\everleys_data.csv`, respectively.\n",
    "</p>\n",
    "\n",
    "<p style='text-align: justify;'>\n",
    "The file `everleys_data.csv` contains serum concentrations of calcium and sodium ions, sampled from 17 patients with Everley's syndrome - a rare genetic disorder that results in sufferers experiencing developmental delays, intellectual and physical abnormalities. The data are taken from a [BMJ statistics tutorial](https://www.bmj.com/about-bmj/resources-readers/publications/statistics-square-one/7-t-tests), and are stored as comma-separated values (csv): with two values given for each patient.\n",
    "</p>\n",
    "<p style='text-align: justify;'>\n",
    "To get to know a dataset, we will use the Pandas package and the Matplotlib plotting library. The Pandas package for data science is included in the Anaconda distribution of Python. Check this [link for installation instructions](https://pandas.pydata.org/getting_started.html) to get started.\n",
    "</p>\n",
    "\n",
    "If you are not using the Anaconda distribution, please refer to [these guidelines](https://pandas.pydata.org/docs/getting_started/install.html).\n",
    "\n",
    "<p style='text-align: justify;'>\n",
    "In order to use the functions contained in Pandas, they must first to be imported. Since our dataset is in a '.csv' file, we must first read it from a csv file. For this, we must import the function `read_csv`, which will create a _Pandas DataFrame_ from data provided in a '.csv' file.\n",
    "</p>\n",
    "\n",
    "::::::::::::::::::::::::::::::::::::::::::::::::"
   ]
  },
  {
   "cell_type": "code",
   "execution_count": null,
   "id": "f33679c2",
   "metadata": {},
   "outputs": [],
   "source": [
    "from pandas import read_csv\n"
   ]
  },
  {
   "cell_type": "markdown",
   "id": "82e59e5f",
   "metadata": {},
   "source": [
    "<p style='text-align: justify;'>\n",
    "Executing this code does not lead to any output on the screen. However, the function is now ready to be used. To use it, we type its name and provide the required arguments. The following code should import the Everley's data into your Python Notebook: \n",
    "</p>\n"
   ]
  },
  {
   "cell_type": "code",
   "execution_count": null,
   "id": "61fd62f5",
   "metadata": {
    "lines_to_next_cell": 2
   },
   "outputs": [],
   "source": [
    "# For Mac OS X and Linux:\n",
    "# (please go to the next cell if using Windows)\n",
    "\n",
    "df = read_csv(\"data/everleys_data.csv\")\n"
   ]
  },
  {
   "cell_type": "code",
   "execution_count": null,
   "id": "22f857c3",
   "metadata": {},
   "outputs": [],
   "source": [
    "# For Windows:\n",
    "\n",
    "# df = read_csv(\"data\\everleys_data.csv\")\n"
   ]
  },
  {
   "cell_type": "markdown",
   "id": "56a47ea5",
   "metadata": {},
   "source": [
    "<p style='text-align: justify;'>\n",
    "Note the orientation of backward and forward slashes that differentiate filepaths given between Unix-based systems, and Windows. This code uses the `read_csv` function from Pandas to read data from a data file, in this case a file with extension '.csv'. Note that the location of the data file is specified within quotes by the relative path to the subfolder 'data', followed by the file name. Use your file browser or the browser in JupyterLab (or an ‘Explorer’-type pane in your IDE of choice) to check that subfolder does indeed exists, and contains the file within it.\n",
    "</p>\n",
    "\n",
    "![](fig/subfolder_data.png \"Screenshot of subfolder 'data' \")\n",
    "\n",
    "After execution of the code, the data are contained in a variable called `df`. This is a structure referred to as a Pandas _DataFrame_.\n",
    "\n",
    "> A [__Pandas DataFrame__](https://pandas.pydata.org/pandas-docs/stable/user_guide/dsintro.html#dataframe) is a 2-dimensional labelled data structure, with columns of (potentially different) types. You can think of it as a spreadsheet."
   ]
  },
  {
   "cell_type": "markdown",
   "id": "f7f6408a",
   "metadata": {},
   "source": [
    "To see the contents of `df`, simply use:\n"
   ]
  },
  {
   "cell_type": "code",
   "execution_count": null,
   "id": "b83178a4",
   "metadata": {},
   "outputs": [],
   "source": [
    "df\n"
   ]
  },
  {
   "cell_type": "markdown",
   "id": "e87db647",
   "metadata": {},
   "source": [
    "(Compare with the result of `print(df)` which displays the contents in a different format.)\n",
    "\n",
    "<p style='text-align: justify;'>\n",
    "The output shows in the first column an index, integers from 0 to 17; and the calcium and sodium concentrations in columns 2 and 3, respectively. The default indexing starts from zero (Python is a 'zero-based' programming language).\n",
    "</p>\n",
    "\n",
    "<p style='text-align: justify;'>\n",
    "In a DataFrame, the first column is referred to as _Indices_, the first row is referred to as _Labels_. Note that the row with the labels is excluded from the row count. Similarly, the row with the indices is excluded from the column count.\n",
    "</p>\n",
    "\n",
    "For large datasets, the function `head` is a convenient way to get a feel of the dataset.\n"
   ]
  },
  {
   "cell_type": "code",
   "execution_count": null,
   "id": "0a1b561c",
   "metadata": {},
   "outputs": [],
   "source": [
    "df.head()"
   ]
  },
  {
   "cell_type": "markdown",
   "id": "34c38ae9",
   "metadata": {},
   "source": [
    "<p style='text-align: justify;'>\n",
    "Without any input argument, this displays the first five data lines of data i the newly-created DataFrame. You can specify and alter the number of rows displayed by including a single integer as argument, e.g. `head(10)`.\n",
    "</p>\n",
    "\n",
    "<p style='text-align: justify;'>\n",
    "If you feel there are too many decimal places in the default view, you can restrict their number by using the `round` method. The numerical argument that you provide in the round parentheses controls the number of decimal places the method rounds to, with digits up to 5 being rounded down, and above (and inclusive of) 5, being rounded up:\n",
    "</p>\n"
   ]
  },
  {
   "cell_type": "code",
   "execution_count": null,
   "id": "368e8652",
   "metadata": {},
   "outputs": [],
   "source": [
    "df.head().round(2)"
   ]
  },
  {
   "cell_type": "markdown",
   "id": "477e14ef",
   "metadata": {},
   "source": [
    "<p style='text-align: justify;'>\n",
    "While it is possible to see how many rows there are in a DataFrame by displaying the whole DataFrame and looking at the last index, there is a convenient way to obtain this number, directly:\n",
    "</p>"
   ]
  },
  {
   "cell_type": "code",
   "execution_count": null,
   "id": "8258ddd3",
   "metadata": {},
   "outputs": [],
   "source": [
    "no_rows = len(df)\n",
    "\n",
    "print('DataFrame has', no_rows, 'rows')\n"
   ]
  },
  {
   "cell_type": "markdown",
   "id": "98dfb20f",
   "metadata": {},
   "source": [
    "You could see above, that the columns of the DataFrame have labels. To see all labels:\n"
   ]
  },
  {
   "cell_type": "code",
   "execution_count": null,
   "id": "78832f13",
   "metadata": {},
   "outputs": [],
   "source": [
    "column_labels = df.columns\n",
    "\n",
    "print(column_labels)\n"
   ]
  },
  {
   "cell_type": "markdown",
   "id": "0d0334a5",
   "metadata": {},
   "source": [
    "Now we can count the labels to obtain the number of columns:\n"
   ]
  },
  {
   "cell_type": "code",
   "execution_count": null,
   "id": "a4c7b6ca",
   "metadata": {},
   "outputs": [],
   "source": [
    "no_columns = len(column_labels)\n",
    "\n",
    "print('DataFrame has', no_columns, 'columns')\n"
   ]
  },
  {
   "cell_type": "markdown",
   "id": "d584b8d9",
   "metadata": {},
   "source": [
    "<p style='text-align: justify;'>\n",
    "And if you want to have both the number of the rows and the number columns displayed together, you can use the `shape` method. Shape returns a tuple of two numbers: the first is the number of rows, and the second is the number of columns.\n",
    "</p>"
   ]
  },
  {
   "cell_type": "code",
   "execution_count": null,
   "id": "e533ff4f",
   "metadata": {
    "lines_to_next_cell": 2
   },
   "outputs": [],
   "source": [
    "df_shape = df.shape\n",
    "\n",
    "print('DataFrame has', df_shape[0], 'rows and',df_shape[1],  'columns')\n"
   ]
  },
  {
   "cell_type": "markdown",
   "id": "25161d79",
   "metadata": {},
   "source": [
    "Notice that `shape` (like `columns`) is not followed by round parentheses. It is not a function that can take arguments. Technically, `shape` is a 'property' of the DataFrame."
   ]
  },
  {
   "cell_type": "markdown",
   "id": "00df7cf9",
   "metadata": {},
   "source": [
    "To find out what data type is contained in each of the columns, us `dtypes`, another 'property':\n"
   ]
  },
  {
   "cell_type": "code",
   "execution_count": null,
   "id": "17b0579a",
   "metadata": {
    "lines_to_next_cell": 2
   },
   "outputs": [],
   "source": [
    "df.dtypes"
   ]
  },
  {
   "cell_type": "markdown",
   "id": "c62b2f31",
   "metadata": {},
   "source": [
    "In this case, both columns contain floating point (decimal) numbers.\n",
    "\n",
    ":::::::::::::::::::::::: challenge\n",
    "\n",
    "## Practice Exercise 1\n",
    "\n",
    "**Read data into a DataFrame**\n",
    "\n",
    "<p style='text-align: justify;'>\n",
    "Download the data file 'loan_data.csv' using the link given above in [Summary and Setup](../learners/setup.md) for this Lesson\". It contains data that can be used for the assessment of loan applications. Read the data into a DataFrame. It is best to assign it a name other than 'df' (to avoid overwriting the Evereley dataset).\n",
    "</p>\n",
    "\n",
    "<p style='text-align: justify;'>\n",
    "Display the first ten rows of the Loan dataset to see its contents. It is taken from a [tutorial on Data Handling in Python](https://www.analyticsvidhya.com/blog/2016/01/complete-tutorial-learn-data-science-python-scratch-2/) which you might find useful for further practice.\n",
    "</p>\n",
    "\n",
    "> From this exercise we can see that a DataFrame can contain different types of data: real numbers (e.g. LoanAmount), integers (ApplicantIncome), categorical data (Gender), and strings (Loan_ID).\n",
    "\n",
    "::::::::::::::::: solution"
   ]
  },
  {
   "cell_type": "code",
   "execution_count": null,
   "id": "08cd5d14",
   "metadata": {
    "lines_to_next_cell": 0
   },
   "outputs": [],
   "source": [
    "from pandas import read_csv\n",
    "# dataframe from .csv file\n",
    "df_loan = read_csv(\"data/loan_data.csv\")\n",
    "# display contents\n",
    "df_loan.head(10)"
   ]
  },
  {
   "cell_type": "markdown",
   "id": "db613365",
   "metadata": {},
   "source": [
    ":::::::::::::::::\n",
    "::::::::::::::::::::::::"
   ]
  },
  {
   "cell_type": "markdown",
   "id": "2411d20d",
   "metadata": {},
   "source": [
    "## Accessing data in a DataFrame\n",
    "\n",
    "<p style='text-align: justify;'>\n",
    "If a datafile is large and you only want to check the format of data in a specific column, you can limit the display to that column.\n",
    "To access data contained in a specific column of a DataFrame, we can use a similar convention as in a Python dictionary, treating the column names as 'keys'. E.g. to show all rows in column 'Calcium', use:\n",
    "</p>"
   ]
  },
  {
   "cell_type": "code",
   "execution_count": null,
   "id": "3cf78caf",
   "metadata": {},
   "outputs": [],
   "source": [
    "df['calcium']\n"
   ]
  },
  {
   "cell_type": "markdown",
   "id": "ce03206c",
   "metadata": {},
   "source": [
    "To access individual rows of a column we use two pairs of square brackets:"
   ]
  },
  {
   "cell_type": "code",
   "execution_count": null,
   "id": "f9d6d790",
   "metadata": {},
   "outputs": [],
   "source": [
    "df['calcium'][0:3]\n"
   ]
  },
  {
   "cell_type": "markdown",
   "id": "8bfefba9",
   "metadata": {},
   "source": [
    "<p style='text-align: justify;'>\n",
    "Here all rules for [slicing](https://docs.python.org/3/tutorial/introduction.html) can be applied.\n",
    "As for lists and tuples, the indexing of rows is semi-inclusive, with the lower boundary included and upper boundary excluded.\n",
    "Note that the first pair of square brackets refers to columns, and the second pair refers to the rows. However, this is different from accessing items in a nested list, for instance.\n",
    "</p>\n",
    "\n",
    "Accessing items in a Pandas DataFrame is analogous to accessing the values in a Python dictionary by referring to its keys."
   ]
  },
  {
   "cell_type": "markdown",
   "id": "c2670ef2",
   "metadata": {},
   "source": [
    "To access non-contiguous elements, we use an additional pair of square brackets (as if for a list within a list):\n"
   ]
  },
  {
   "cell_type": "code",
   "execution_count": null,
   "id": "0028b8bc",
   "metadata": {},
   "outputs": [],
   "source": [
    "df['calcium'][[1, 3, 7]]"
   ]
  },
  {
   "cell_type": "markdown",
   "id": "a8c35e33",
   "metadata": {},
   "source": [
    "<p style='text-align: justify;'>\n",
    "Another method for indexing and slicing a DataFrame is to use the 'index location' or `iloc` property. Note that properties in Python differ from methods. Syntactically, they use the same dot notation we are accustomed to with methods, but they differ in their use of square brackets, rather than the round parentheses that methods operate with. A property also refers directly to a specific **attribute** of an object. \n",
    "\n",
    "In this example `iloc` refers first to the rows of data, and then to columns - by index; all contained within a single pair of brackets. For example, to obtain all the rows of the first column (index `0`), you use:\n",
    "</p>"
   ]
  },
  {
   "cell_type": "code",
   "execution_count": null,
   "id": "65a9315c",
   "metadata": {},
   "outputs": [],
   "source": [
    "df.iloc[:, 0]"
   ]
  },
  {
   "cell_type": "markdown",
   "id": "887d5be4",
   "metadata": {},
   "source": [
    "To display only the first three calcium concentrations, slicing is used: note that the upper boundary is excluded):"
   ]
  },
  {
   "cell_type": "code",
   "execution_count": null,
   "id": "0b0cb43e",
   "metadata": {},
   "outputs": [],
   "source": [
    "df.iloc[0:3, 0]"
   ]
  },
  {
   "cell_type": "markdown",
   "id": "3af7c245",
   "metadata": {},
   "source": [
    "To access non-consecutive values, we can use a pair of square brackets within the outer pair of square brackets:"
   ]
  },
  {
   "cell_type": "code",
   "execution_count": null,
   "id": "d81996d6",
   "metadata": {},
   "outputs": [],
   "source": [
    "df.iloc[[2, 4, 7], 0]\n"
   ]
  },
  {
   "cell_type": "markdown",
   "id": "5a177d3d",
   "metadata": {},
   "source": [
    "Similarly, we can access values from multiple columns:"
   ]
  },
  {
   "cell_type": "code",
   "execution_count": null,
   "id": "1725cdcf",
   "metadata": {},
   "outputs": [],
   "source": [
    "df.iloc[[2, 4, 7], :]\n"
   ]
  },
  {
   "cell_type": "markdown",
   "id": "f0423c97",
   "metadata": {},
   "source": [
    "To pick only the even rows from the two columns, note the following colon notation:"
   ]
  },
  {
   "cell_type": "code",
   "execution_count": null,
   "id": "9aa44ce4",
   "metadata": {},
   "outputs": [],
   "source": [
    "df.iloc[:18:2, :]\n"
   ]
  },
  {
   "cell_type": "markdown",
   "id": "6df25163",
   "metadata": {},
   "source": [
    "The number after the second colon indicates the _stepsize_.\n",
    "\n",
    ":::::::::::::::::::::::::::::::::: challenge\n",
    "\n",
    "## Practice Exercise 2\n",
    "\n",
    "**Select data from DataFrame**\n",
    "\n",
    "Display the calcium and sodium concentrations of all patients - except the first. Check the model solution at the bottom for options.\n",
    "\n",
    "::::::::::::::::: solution"
   ]
  },
  {
   "cell_type": "code",
   "execution_count": null,
   "id": "c916ec2a",
   "metadata": {},
   "outputs": [],
   "source": [
    "df[['calcium', 'sodium']][1:]"
   ]
  },
  {
   "cell_type": "markdown",
   "id": "f823e97e",
   "metadata": {},
   "source": [
    ":::::::::::::::::\n",
    "\n",
    "::::::::::::::::::::::::::::::::::\n",
    "\n",
    "Mixing the different methods of accessing specific data in a DataFrame can be confusing, and requires practice and diligence.\n",
    "\n",
    "### **Search for missing values**\n",
    "\n",
    "Some tables contain missing entries. You can check a DataFrame for such missing entries. If no missing entry is found, the function `isnull` will return `False`.\n"
   ]
  },
  {
   "cell_type": "code",
   "execution_count": null,
   "id": "c6e31159",
   "metadata": {},
   "outputs": [],
   "source": [
    "df.isnull().any()\n"
   ]
  },
  {
   "cell_type": "markdown",
   "id": "918913a3",
   "metadata": {},
   "source": [
    "This shows that there are no missing entries in our DataFrame.\n",
    "\n",
    ":::::::::::::::::::::::::::::::::: challenge\n",
    "## Practice Exercise 3\n",
    "\n",
    "**Find NaN in DataFrame**\n",
    "\n",
    "In the Loan dataset, check the entry 'Self-employed' for ID LP001059. It shows how a missing value is represented as 'NaN' (not a number).\n",
    "\n",
    " Verify that the output of `isnull` in this case is `True`\n",
    "\n",
    "::::::::::::::::: solution"
   ]
  },
  {
   "cell_type": "code",
   "execution_count": null,
   "id": "1366ce40",
   "metadata": {
    "lines_to_next_cell": 2
   },
   "outputs": [],
   "source": [
    "df_loan['Self_Employed'][8]"
   ]
  },
  {
   "cell_type": "code",
   "execution_count": null,
   "id": "c68aa0b7",
   "metadata": {},
   "outputs": [],
   "source": [
    "df_loan['Self_Employed'][8:9].isnull()"
   ]
  },
  {
   "cell_type": "markdown",
   "id": "0da2cbe6",
   "metadata": {},
   "source": [
    ":::::::::::::::::\n",
    "\n",
    "::::::::::::::::::::::::::::::::::"
   ]
  },
  {
   "cell_type": "markdown",
   "id": "77e994e3",
   "metadata": {},
   "source": [
    "## Basic data features:\n",
    "\n",
    "### **Summary Statistics**\n",
    "\n",
    "To get a summary of basic data features, it is possible to use the function `describe`:\n"
   ]
  },
  {
   "cell_type": "code",
   "execution_count": null,
   "id": "60398b4b",
   "metadata": {},
   "outputs": [],
   "source": [
    "description = df.describe()\n",
    "\n",
    "description\n"
   ]
  },
  {
   "cell_type": "markdown",
   "id": "59ea0513",
   "metadata": {},
   "source": [
    "<p style='text-align: justify;'>\n",
    "The `describe` function produces a new DataFrame (here called 'description') that contains the number of samples, the mean, the standard deviation, 25th, 50th, 75th  percentile, and the minimum and maximum values for each column of the data. Note that the indices of the rows have now been replaced by strings. To access rows, it is possible to refer to those names using the `loc` property. Thus, in order to access the mean of the calcium concentrations from the description, each of the following is valid:\n",
    "</p>\n"
   ]
  },
  {
   "cell_type": "code",
   "execution_count": null,
   "id": "e87bcd67",
   "metadata": {
    "results": "hold"
   },
   "outputs": [],
   "source": [
    "# Option 1\n",
    "description.loc['mean']['calcium']\n",
    "\n",
    "# Option 2\n",
    "description.loc['mean'][0]\n",
    "\n",
    "# Option 3\n",
    "description['calcium']['mean']\n",
    "\n",
    "# Option 4\n",
    "description['calcium'][1]\n"
   ]
  },
  {
   "cell_type": "markdown",
   "id": "4e89b237",
   "metadata": {},
   "source": [
    ":::::::::::::::::::::::::::::::::: challenge\n",
    "## Practice Exercise 4\n",
    "\n",
    "<p style='text-align: justify;'>\n",
    "Use your own .csv dataset to practice. (If you don't have a dataset at hand, any excel table can be exported as .csv.) Firstly, read it into a DataFrame, and proceed by checking its header, accessing individual values or sets of values etc. Create a statistical summary using `describe`, and check for missing values using `.isnull`.\n",
    "</p>\n",
    "\n",
    "::::::::::::::::: solution\n",
    " [ad libitum]\n",
    ":::::::::::::::::\n",
    "\n",
    "::::::::::::::::::::::::::::::::::\n",
    "\n",
    "### **Iterating through the columns**\n",
    "\n",
    "Now we know how to access all data in a DataFrame and how to get a statistical summary statistics over each column.\n",
    "\n",
    "Here is code to iterate through the columns and access the first two concentrations:\n"
   ]
  },
  {
   "cell_type": "code",
   "execution_count": null,
   "id": "ab74ae92",
   "metadata": {},
   "outputs": [],
   "source": [
    "for col in df:\n",
    "\n",
    "    print(df[col][0:2])\n"
   ]
  },
  {
   "cell_type": "markdown",
   "id": "ede01249",
   "metadata": {},
   "source": [
    "As a slightly more complex example, we access the median ('50%') of each column in the description, and add it to a list:\n"
   ]
  },
  {
   "cell_type": "code",
   "execution_count": null,
   "id": "981d4af3",
   "metadata": {
    "results": "hold"
   },
   "outputs": [],
   "source": [
    "conc_medians = list()\n",
    "\n",
    "for col in df:\n",
    "\n",
    "    conc_medians.append(df[col].describe()['50%'])\n",
    "\n",
    "print('The columns are: ', list(df.columns))\n",
    "print('The medians are: ', conc_medians)\n"
   ]
  },
  {
   "cell_type": "markdown",
   "id": "516c2da3",
   "metadata": {},
   "source": [
    "<p style='text-align: justify;'>\n",
    "This approach is useful for DataFrames with a larger number of columns. For instance, it is possible to follow this by creating a boxplot or histogram for the means, medians etc. of the DataFrame, thus giving a comprehensive overview of all (comparable) columns.\n",
    "</p>\n",
    "\n",
    "### **Selecting a subset based on a template**\n",
    "\n",
    "<p style='text-align: justify;'>\n",
    "Often, an analysis of a dataset may required on only part of the data. This can often be formulated by using a logical condition which specifies the required subset.\n",
    "</p>\n",
    "\n",
    "<p style='text-align: justify;'>\n",
    "For this we will assume that some of the data are labelled '0' and some are labelled '1'. Let us therefore see how to add a new column to our Evereleys DataFrame, which contains the labels (which are, in this example, arbitrary).\n",
    "</p>\n",
    "\n",
    "<p style='text-align: justify;'>\n",
    "Firstly, we can randomly create as many labels as we have rows in the DataFrame. We can use the <kbd>randint</kbd> function, which can be imported from the <kbd>numpy.random</kbd> module of the NumPy library. In its simplest form, the <kbd>randint</kbd> function accepts two arguments. Firstly, the upper bound of the integer needed, which defaults to zero. As Python is exclusive of the upper bound, providing '2' will thus yield either '0' or '1' only.\n",
    "</p>"
   ]
  },
  {
   "cell_type": "code",
   "execution_count": null,
   "id": "1207ce81",
   "metadata": {
    "results": "hold"
   },
   "outputs": [],
   "source": [
    "from numpy.random import randint\n",
    "\n",
    "no_rows = len(df)\n",
    "\n",
    "randomLabel = randint(2, size=no_rows)\n",
    "\n",
    "print('Number of rows:  ', no_rows)\n",
    "print('Number of Labels:', len(randomLabel))\n",
    "print('Labels:          ', randomLabel)\n"
   ]
  },
  {
   "cell_type": "markdown",
   "id": "c1f32e8c",
   "metadata": {},
   "source": [
    "Note how we obtain the number of rows (18) using <kbd>len</kbd> function and do not explicitly state it in the code.\n",
    "\n",
    "<p style='text-align: justify;'>\n",
    "Next, we must create a new data column in our `df` DataFrame which contains the labels. In order to create a new column, you may simply refer to a column name that does not yet exist, and subsequently assign values to it. Let us call it 'gender', assuming that '0' represents male and '1' represents female.\n",
    "</p>\n",
    "\n",
    "As gender specification can include more than two labels, try to create a column with more than two randomly assigned labels e.g. (0, 1, 2)."
   ]
  },
  {
   "cell_type": "code",
   "execution_count": null,
   "id": "1f1821c0",
   "metadata": {},
   "outputs": [],
   "source": [
    "df['gender'] = randomLabel\n",
    "\n",
    "df.head()"
   ]
  },
  {
   "cell_type": "markdown",
   "id": "781b19ef",
   "metadata": {},
   "source": [
    "<p style='text-align: justify;'>\n",
    "Now we can use the information contained in 'gender' to filter the data by gender. To achieve this, we use a conditional statement. Let us check which of the rows are labelled as '1':\n",
    "</p>"
   ]
  },
  {
   "cell_type": "code",
   "execution_count": null,
   "id": "9e464c90",
   "metadata": {},
   "outputs": [],
   "source": [
    "df['gender'] == 1"
   ]
  },
  {
   "cell_type": "markdown",
   "id": "8559afa5",
   "metadata": {},
   "source": [
    "<p style='text-align: justify;'>\n",
    "If we assign the result of the conditional statement (a boolean: True or False) to a variable, then this variable can act as a template to filter the data. If we call the DataFrame with that variable, we will only get the rows where the condition was found to be True:\n",
    "</p>"
   ]
  },
  {
   "cell_type": "code",
   "execution_count": null,
   "id": "966100ad",
   "metadata": {},
   "outputs": [],
   "source": [
    "df_female = df['gender'] == 1\n",
    "\n",
    "df[df_female]\n"
   ]
  },
  {
   "cell_type": "markdown",
   "id": "a0abf552",
   "metadata": {},
   "source": [
    "Using the boolean, we only pick the rows that are labelled '1' and thus get a subset of the data according to the label.\n",
    "\n",
    ":::::::::::::::::::::::::::::::::: challenge\n",
    "\n",
    "## Practice Exercise 5 \n",
    "\n",
    "**Using a template**\n",
    "\n",
    "Modify the code to calculate the number of samples labelled 0 and check the number of rows of that subset.\n",
    "\n",
    "::::::::::::::::: solution"
   ]
  },
  {
   "cell_type": "code",
   "execution_count": null,
   "id": "9ef1ddfa",
   "metadata": {
    "lines_to_next_cell": 0,
    "results": "hold"
   },
   "outputs": [],
   "source": [
    "from numpy.random import randint\n",
    "no_rows = len(df)\n",
    "randomLabel = randint(2, size=no_rows)\n",
    "df['gender'] = randomLabel\n",
    "df_male = df['gender'] == 0\n",
    "no_males = len(df[df_male])\n",
    "print(no_males, 'samples are labelled \"male\".')"
   ]
  },
  {
   "cell_type": "markdown",
   "id": "f247ea1c",
   "metadata": {},
   "source": [
    ":::::::::::::::::\n",
    "::::::::::::::::::::::::::::::::::\n",
    "\n",
    "## Visualisation of data\n",
    "<p style='text-align: justify;'>\n",
    "It is easy to see from the numbers that the concentrations of sodium are much higher than those of calcium. However, to incorporate comparisons of medians, percentiles and the spread of the data, it is better to use visualisation.\n",
    "</p>\n",
    "\n",
    "<p style='text-align: justify;'>\n",
    "The simplest way to visualise data, is to use Pandas' functionality which offers direct methods of plotting your data. Here is an example where a boxplot is created for each column:\n",
    "</p>\n"
   ]
  },
  {
   "cell_type": "code",
   "execution_count": null,
   "id": "d3ef2652",
   "metadata": {},
   "outputs": [],
   "source": [
    "df = read_csv(\"data/everleys_data.csv\")\n",
    "df.boxplot()\n"
   ]
  },
  {
   "cell_type": "markdown",
   "id": "0249d330",
   "metadata": {},
   "source": [
    "<p style='text-align: justify;'>\n",
    "By default, boxplots are shown for all columns if no further argument is given to the function (empty round parentheses). As the calcium plot is quite condensed, we may wish to visualise it, separately. This can be done by specifying the calcium column as an argument:\n",
    "</p>"
   ]
  },
  {
   "cell_type": "code",
   "execution_count": null,
   "id": "63aaaf31",
   "metadata": {},
   "outputs": [],
   "source": [
    "# Boxplot of calcium results\n",
    "df.boxplot(column='calcium')\n"
   ]
  },
  {
   "cell_type": "markdown",
   "id": "9e8d1000",
   "metadata": {},
   "source": [
    "## Plots using Matplotlib\n",
    "\n",
    "> [__Matplotlib__](https://matplotlib.org) is a comprehensive library for creating static, animated and interactive visualizations in Python.\n",
    "\n",
    "<p style='text-align: justify;'>\n",
    "The above is an easy way to create boxplots directly on the DataFrame. It is based on the library Matplotlib and specifically uses the __pyplot library__. For simplicity, this code is put into a convenient Pandas function.\n",
    "</p>\n",
    "\n",
    "<p style='text-align: justify;'>\n",
    "However, we are going to use __Matplotlib__ extensively later on in the course, and we will therefore start by introducing a more direct and generic way of using it.\n",
    "</p>\n",
    "\n",
    "To do this, we import the function <kbd>subplots</kbd> from the [pyplot library](https://matplotlib.org/stable/api/pyplot_summary.html):"
   ]
  },
  {
   "cell_type": "code",
   "execution_count": null,
   "id": "04ad5f75",
   "metadata": {},
   "outputs": [],
   "source": [
    "from matplotlib.pyplot import subplots, show\n"
   ]
  },
  {
   "cell_type": "markdown",
   "id": "13242307",
   "metadata": {},
   "source": [
    "<p style='text-align: justify;'>\n",
    "The way to use <kbd>subplots</kbd> is to first set up a figure environment (below referred to in the code as an object titled 'fig') and an empty coordinate system (below referred to as object 'ax'). The plot is then created using one of the many methods available in Matplotlib. We will proceed by applying it to the coordinate system, 'ax'.\n",
    "</p>\n",
    "\n",
    "<p style='text-align: justify;'>\n",
    "As an example, let us create a [boxplot](https://matplotlib.org/api/_as_gen/matplotlib.pyplot.boxplot.html#matplotlib.pyplot.boxplot|) of the calcium variable. As an argument of the function we need to specify the data. We can use the values of the 'calcium' concentrations from the column with the same name:\n",
    "</p>"
   ]
  },
  {
   "cell_type": "code",
   "execution_count": null,
   "id": "b3d1afeb",
   "metadata": {
    "collapse": true,
    "tags": [
     "remove_output"
    ]
   },
   "outputs": [],
   "source": [
    "fig, ax = subplots()\n",
    "\n",
    "ax.boxplot(df['calcium'])\n",
    "\n",
    "ax.set_title('Boxplot of Everley Calcium')\n",
    "\n",
    "show()"
   ]
  },
  {
   "cell_type": "markdown",
   "id": "c4e1e44f",
   "metadata": {},
   "source": [
    "Note how we define the title of the plot by referring to the same coordinate system `ax`.\n",
    "\n",
    "The value of <kbd>subplots</kbd> becomes apparent when it is used to generate more than one plot as part of a single figure: one of its many useful features.\n",
    "\n",
    "<p style='text-align: justify;'>\n",
    "Here is an example whereby we create two boxplots adjacent to each other. The keyword arguments to use is 'ncols' which is the number of figures per row. 'ncols=2' indicates that you are plotting two plots adjacent to each other.\n",
    "</p>"
   ]
  },
  {
   "cell_type": "code",
   "execution_count": null,
   "id": "dc2d40d7",
   "metadata": {
    "collapse": true,
    "tags": [
     "remove_output"
    ]
   },
   "outputs": [],
   "source": [
    "fig, ax = subplots(ncols=2)\n",
    "\n",
    "ax[0].boxplot(df['calcium'])\n",
    "ax[0].set_title('Calcium')\n",
    "\n",
    "ax[1].boxplot(df['sodium'])\n",
    "ax[1].set_title('Sodium');\n",
    "\n",
    "show()\n"
   ]
  },
  {
   "cell_type": "markdown",
   "id": "7eb61641",
   "metadata": {},
   "source": [
    "Each of these subplots must now be referred to using indexing the coordinate system 'ax'. This figure gives a good overview of the Everley's data."
   ]
  },
  {
   "cell_type": "markdown",
   "id": "54de4fd1",
   "metadata": {},
   "source": [
    "If you prefer to have the boxplots of both columns in a single figure, this can also be done:\n"
   ]
  },
  {
   "cell_type": "code",
   "execution_count": null,
   "id": "ebb238ee",
   "metadata": {
    "collapse": true,
    "lines_to_next_cell": 2,
    "tags": [
     "remove_output"
    ]
   },
   "outputs": [],
   "source": [
    "fig, ax = subplots(ncols=1, nrows=1)\n",
    "\n",
    "ax.boxplot([df['calcium'], df['sodium']], positions=[1, 2])\n",
    "ax.set_title('Boxplot of Calcium (left) and Sodium (right)')\n",
    "\n",
    "show()"
   ]
  },
  {
   "cell_type": "markdown",
   "id": "23dccf68",
   "metadata": {},
   "source": [
    ":::::::::::::::::::::::::::::: challenge\n",
    "## Practice Exercise 6 \n",
    "\n",
    "**Boxplot from Loan data**\n",
    "\n",
    "Plot the boxplots of the 'ApplicantIncome' and the 'CoapplicantIncome' in the Loan data using the above code.\n",
    "\n",
    "::::::::::::::::: solution"
   ]
  },
  {
   "cell_type": "code",
   "execution_count": null,
   "id": "55f4a86e",
   "metadata": {
    "collapse": true,
    "tags": [
     "remove_output"
    ]
   },
   "outputs": [],
   "source": [
    "fig, ax = subplots(ncols=1, nrows=1)\n",
    "ax.boxplot([df_loan['ApplicantIncome'], df_loan['CoapplicantIncome']], positions=[1, 2])\n",
    "ax.set_title('Applicant Income (left) & Co-Applicant Income (right)');\n",
    "\n",
    "show()"
   ]
  },
  {
   "cell_type": "markdown",
   "id": "f4dc19e5",
   "metadata": {},
   "source": [
    ":::::::::::::::::\n",
    "::::::::::::::::::::::::::::::\n",
    "\n",
    "### **Histogram**\n",
    "<p style='text-align: justify;'>\n",
    "Another good visual overview for data is the histogram. Containers or 'bins' are created over the range of values found within a column, and the count of the values for each bin is plotted on the vertical (y-)axis.\n",
    "</p>"
   ]
  },
  {
   "cell_type": "code",
   "execution_count": null,
   "id": "764131e0",
   "metadata": {
    "collapse": true,
    "lines_to_next_cell": 2,
    "tags": [
     "remove_output"
    ]
   },
   "outputs": [],
   "source": [
    "fig, ax = subplots(ncols=2, nrows=1)\n",
    "\n",
    "ax[0].hist(df['calcium'])\n",
    "ax[0].set(xlabel='Calcium', ylabel='Count');\n",
    "\n",
    "ax[1].hist(df['sodium'])\n",
    "ax[1].set(xlabel='Sodium', ylabel='Count');\n",
    "\n",
    "fig.suptitle('Histograms of Everley concentrations', fontsize=15);\n",
    "\n",
    "show()"
   ]
  },
  {
   "cell_type": "markdown",
   "id": "8423a848",
   "metadata": {},
   "source": [
    "This example code also demonstrates how to use methods from within subplots to add labels to the axes, together with a title for the overall figure.\n",
    "\n",
    "Unless specified, a default value is used for the generation of the bins. It is set to 10 bins over the range of which values are found. The number of bins in the histogram can be changed using the keyword argument 'bins':\n"
   ]
  },
  {
   "cell_type": "code",
   "execution_count": null,
   "id": "c4721e90",
   "metadata": {
    "collapse": true,
    "lines_to_next_cell": 2,
    "tags": [
     "remove_output"
    ]
   },
   "outputs": [],
   "source": [
    "fig, ax = subplots(ncols=2, nrows=1)\n",
    "\n",
    "ax[0].hist(df['calcium'], bins=5)\n",
    "ax[0].set(xlabel='Calcium, 5 bins', ylabel='Count');\n",
    "\n",
    "ax[1].hist(df['calcium'], bins=15)\n",
    "ax[1].set(xlabel='Calcium, 15 bins', ylabel='Count');\n",
    "fig.suptitle('Histograms with Different Binnings', fontsize=16);\n",
    "\n",
    "show()"
   ]
  },
  {
   "cell_type": "markdown",
   "id": "117a5312",
   "metadata": {},
   "source": [
    "Note how the y-axis label of the right figure is slightly misplaced, and overlapping the border of the left figure. In order to correct for the placement of the labels and the title, you can use `tight_layout` automatically adjust for this:"
   ]
  },
  {
   "cell_type": "code",
   "execution_count": null,
   "id": "1bde0887",
   "metadata": {
    "collapse": true,
    "tags": [
     "remove_output"
    ]
   },
   "outputs": [],
   "source": [
    "fig, ax = subplots(ncols=2, nrows=1)\n",
    "\n",
    "ax[0].hist(df['calcium'], bins=5)\n",
    "ax[0].set(xlabel='Calcium, 5 bins', ylabel='Count');\n",
    "\n",
    "ax[1].hist(df['calcium'], bins=15)\n",
    "ax[1].set(xlabel='Calcium, 15 bins', ylabel='Count');\n",
    "fig.suptitle('Histograms with Different Binnings', fontsize=16);\n",
    "fig.tight_layout()\n",
    "\n",
    "show()"
   ]
  },
  {
   "cell_type": "markdown",
   "id": "09177642",
   "metadata": {},
   "source": [
    "::::::::::::::::::::::::::::::: challenge\n",
    "## Practice Exercise 7: \n",
    "\n",
    "**Create the histogram of a column**\n",
    "\n",
    "Take the loan data and display the histogram of the loan amount that people asked for. (Loan amounts are divided by 1000, i.e. in k£ on the horizontal axis).  Use 20 bins, as an example.\n",
    "\n",
    "::::::::::::::::: solution\n"
   ]
  },
  {
   "cell_type": "code",
   "execution_count": null,
   "id": "4c810bd0",
   "metadata": {
    "collapse": true,
    "tags": [
     "remove_output"
    ]
   },
   "outputs": [],
   "source": [
    "# Histogram of loan amounts in k£\n",
    "fig, ax = subplots()\n",
    "ax.hist(df_loan['LoanAmount'], bins=20)\n",
    "ax.set(xlabel='Loan amount', ylabel='Count');\n",
    "ax.set_title('Histograms of Loan Amounts', fontsize=16);\n",
    "\n",
    "show()"
   ]
  },
  {
   "cell_type": "markdown",
   "id": "8a7fbaf9",
   "metadata": {},
   "source": [
    ":::::::::::::::::\n",
    ":::::::::::::::::::::::::::::::\n",
    "\n",
    "## Handling the Diabetes Dataset\n",
    "\n",
    "Let us return to the dataset that commenced our exploration of the handling of data within a DataFrame.\n",
    "\n",
    "Next, we will:\n",
    "\n",
    "- Import the diabetes data from 'sklearn'\n",
    "- Check the shape of the DataFrame and search for NANs\n",
    "- Get a summary plot of one of its statistical quantities (i.e. mean) for all columns\n",
    "\n",
    "Firstly, let's import the dataset and check its `head`. In some cases, this may take a moment: please be patient, and wait for the numbers to appear as output below your code cell (if you’re using an IDE).\n"
   ]
  },
  {
   "cell_type": "code",
   "execution_count": null,
   "id": "f695cf0b",
   "metadata": {
    "results": "hold"
   },
   "outputs": [],
   "source": [
    "from sklearn import datasets\n",
    "\n",
    "diabetes = datasets.load_diabetes()\n",
    "\n",
    "X = diabetes.data\n",
    "\n",
    "from pandas import DataFrame\n",
    "\n",
    "df_diabetes = DataFrame(data=X)\n",
    "\n",
    "df_diabetes.head()\n"
   ]
  },
  {
   "cell_type": "markdown",
   "id": "f22c0c00",
   "metadata": {},
   "source": [
    "If you don't see all the columns, use the cursor to scroll to the right. Next, let's check the number of columns and rows.\n"
   ]
  },
  {
   "cell_type": "code",
   "execution_count": null,
   "id": "f82092a2",
   "metadata": {},
   "outputs": [],
   "source": [
    "no_rows = len(df_diabetes)\n",
    "no_cols = len(df_diabetes.columns)\n",
    "\n",
    "print('Rows:', no_rows, 'Columns:', no_cols)\n"
   ]
  },
  {
   "cell_type": "markdown",
   "id": "1d5c0119",
   "metadata": {},
   "source": [
    "There are 442 rows organised in 10 columns.\n",
    "\n",
    "In order o obtain an overview, let us extract the mean of each column using the <kbd>describe</kbd> and plot all means as a bar chart. The Matplotlib function to plot a bar chart is called <kbd>bar</kbd>:"
   ]
  },
  {
   "cell_type": "code",
   "execution_count": null,
   "id": "fca14e1b",
   "metadata": {
    "results": "hold"
   },
   "outputs": [],
   "source": [
    "conc_means = list()\n",
    "\n",
    "for col in df_diabetes:\n",
    "    conc_means.append(df_diabetes[col].describe()['mean'])\n",
    "\n",
    "print('The columns are: ', list(df_diabetes.columns))\n",
    "print('The medians are: ', conc_means, 2)"
   ]
  },
  {
   "cell_type": "code",
   "execution_count": null,
   "id": "7d5b9909",
   "metadata": {
    "collapse": true,
    "tags": [
     "remove_output"
    ]
   },
   "outputs": [],
   "source": [
    "fig, ax = subplots()\n",
    "\n",
    "bins = range(10)\n",
    "\n",
    "ax.bar(bins, conc_means);\n",
    "\n",
    "show()"
   ]
  },
  {
   "cell_type": "markdown",
   "id": "1620115a",
   "metadata": {},
   "source": [
    "<p style='text-align: justify;'>\n",
    "Note how the bars in this plot go up and down. The vertical axis, however, has values ranging from -10^(-16)^ to +10^(-16)^. This means that, for all practical purposes, all means are zero which is not a coincidence. The original values have been normalised to mean zero for the purpose of applying a machine learning algorithm to them.\n",
    "</p>\n",
    "\n",
    "In this example, we can clearly observe the importance of checking the data before working with them.\n",
    "\n",
    "## Exercises\n",
    ":::::::::::::::::::::::::::::::::::::::: challenge\n",
    "\n",
    "#### End of chapter Exercises\n",
    "\n",
    "Download the cervical cancer dataset provided, import it using `read_csv`.\n",
    "\n",
    "1. How many rows and columns are there?\n",
    "\n",
    "2. How many columns contain floating point numbers (type float64)?\n",
    "\n",
    "3. How many of the subjects are smokers?\n",
    "\n",
    "4. Calculate the percentage of smokers\n",
    "\n",
    "5. Plot the age distribution (with, for instance, 50 bins)\n",
    "\n",
    "6. Get the mean and standard distribution of age of first sexual intercourse\n",
    "\n",
    "::::::::::::::::::::: solution\n",
    "\n",
    "## Solutions will be provided once the submitted assignments are marked and returned."
   ]
  },
  {
   "cell_type": "markdown",
   "id": "9bab2cd7",
   "metadata": {},
   "source": [
    ":::::::::::::::::::::\n",
    "\n",
    "::::::::::::::::::::::::::::::::::::::::\n",
    "\n",
    "::::::::::::::::::::::::::::::::::::: keypoints\n",
    "\n",
    "- <kbd>Pandas</kbd> package contains useful functions to work with DataFrames.\n",
    "- The <kbd>iloc</kbd> property is used to index and slice a DataFrame.\n",
    "- <kbd>describe</kbd> function is used to obtain a statistical summary of basic data features.\n",
    "- The simplest method for data visualisation, is to use Pandas' in-built functionality.\n",
    "- `Matplotlib` is a comprehensive library for creating static, animated, and interactive visualizations, in Python.\n",
    "::::::::::::::::::::::::::::::::::::::::::::::::"
   ]
  },
  {
   "cell_type": "markdown",
   "id": "5d0e4fbc",
   "metadata": {},
   "source": [
    "[r-markdown]: https://rmarkdown.rstudio.com/"
   ]
  }
 ],
 "metadata": {
  "jupytext": {
   "cell_metadata_filter": "collapse,tags,results,-all",
   "main_language": "python",
   "notebook_metadata_filter": "-all"
  }
 },
 "nbformat": 4,
 "nbformat_minor": 5
}
