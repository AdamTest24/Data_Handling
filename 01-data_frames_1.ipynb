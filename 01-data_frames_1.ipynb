{
 "cells": [
  {
   "cell_type": "raw",
   "id": "42d4cdeb",
   "metadata": {},
   "source": [
    "---\n",
    "title: \"Data Frames - Part 1\"\n",
    "teaching: 60\n",
    "exercises: 60\n",
    "---"
   ]
  },
  {
   "cell_type": "markdown",
   "id": "27eac2b4",
   "metadata": {},
   "source": [
    "[**Download Chapter notebook (ipynb)**](01-data_frames_1.ipynb)\n",
    "\n",
    "[<span style=\"color: rgb(255, 0, 0);\">**Mandatory Lesson Feedback Survey**</span>](https://docs.google.com/forms/d/e/1FAIpQLSdr0capF7jloJhPH3Pki1B3LZoKOG16poOpuVJ7SL2LkwLHQA/viewform?pli=1)\n",
    "\n"
   ]
  },
  {
   "cell_type": "markdown",
   "id": "4526d35e",
   "metadata": {},
   "source": [
    "::::::::::::::::::::::::::::::::::::: questions\n",
    "\n",
    "- How is data read into a dataframe?\n",
    "- What are different ways to manipulate data in dataframes?\n",
    "- What makes data visualisation simple in Python?\n",
    "\n",
    "::::::::::::::::::::::::::::::::::::::::::::::::\n",
    "\n",
    "::::::::::::::::::::::::::::::::::::: objectives\n",
    "- Import data set as Pandas dataframe\n",
    "- Inspect data frame and access data\n",
    "- Produce an overview of data features\n",
    "- Create data plots using Matplotlib\n",
    "::::::::::::::::::::::::::::::::::::::::::::::::\n",
    "\n",
    "<br>\n",
    "<p align = \"center\">\n",
    "<iframe width=\"560\" height=\"315\" src=\"https://www.youtube.com/embed/jdWOAzK81VE\" title=\"YouTube video player\" frameborder=\"0\" allow=\"accelerometer; autoplay; clipboard-write; encrypted-media; gyroscope; picture-in-picture\" allowfullscreen></iframe>\n",
    "</p>\n",
    "<br>\n",
    "\n",
    "<p align = \"center\">\n",
    "<iframe width=\"560\" height=\"315\" src=\"https://www.youtube.com/embed/zw6t3yHEqGU\" title=\"YouTube video player\" frameborder=\"0\" allow=\"accelerometer; autoplay; clipboard-write; encrypted-media; gyroscope; picture-in-picture\" allowfullscreen></iframe>\n",
    "</p>\n",
    "<br>\n",
    "\n",
    "<p align = \"center\">\n",
    "<iframe width=\"560\" height=\"315\" src=\"https://www.youtube.com/embed/mljXcIzx4ps\" title=\"YouTube video player\" frameborder=\"0\" allow=\"accelerometer; autoplay; clipboard-write; encrypted-media; gyroscope; picture-in-picture\" allowfullscreen></iframe>\n",
    "</p>\n",
    "<br>\n",
    "\n",
    ":::::::::::::::::: prereq\n",
    "\n",
    "## Prerequisites\n",
    "\n",
    "- Indexing of Arrays\n",
    "- For Loop through Array\n",
    "- Basic Statistics (distributions, mean, median, standard deviation)\n",
    "\n",
    "::::::::::::::::::\n",
    "\n",
    ":::::::::::::::::::::::::::::::::::::::::::::::::::::::::::::::::::: instructor\n",
    "\n",
    "The diabetes data set is one of the challenging task.\n",
    "\n",
    "::::::::::::::::::::::::::::::::::::::::::::::::::::::::::::::::::::::::::::::::"
   ]
  },
  {
   "cell_type": "markdown",
   "id": "4cc97179",
   "metadata": {},
   "source": [
    "## Challenge: The diabetes data set\n",
    "<p style='text-align: justify;'>\n",
    "Here is a screenshot of the so-called diabetes data set. It is taken from\n",
    "[this webpage](https://www4.stat.ncsu.edu/~boos/var.select/diabetes.tab.txt) and it is one of the [example data sets](https://scikit-learn.org/stable/modules/generated/sklearn.datasets.load_diabetes.html) used to illustrate machine learning functionality in scikit-learn (Part III and Part IV of the course).\n",
    "</p>\n",
    "\n",
    "![](fig/diabetes_data_screenshot.png \"Screenshot of Diabetes Data\")\n",
    "\n",
    "<p style='text-align: justify;'>\n",
    "This figure captures only the top part of the data. On the webpage you need to scroll down considerably to view the whole content. Thus, to get an __overview__ of the dataset is the first main task in Data Science.\n",
    "</p>\n",
    "\n",
    "::::::::::::::::::::::::::::::::::::: callout\n",
    "\n",
    "## The lesson\n",
    "\n",
    "- introduces code to read and inspect the data\n",
    "- works with a specific data frame and extracts some techniques to get an overview\n",
    "- discusses the concept 'distribution' as a way of summarising data in a single figure\n"
   ]
  },
  {
   "cell_type": "markdown",
   "id": "4cab6878",
   "metadata": {},
   "source": [
    ":::::::: checklist\n",
    "\n",
    "### To get to know a dataset you need to\n",
    "\n",
    "- access the data\n",
    "- check the content\n",
    "- produce a summary of basic properties\n",
    "\n",
    "::::::::\n",
    "\n",
    "<p style='text-align: justify;'>\n",
    "In this lesson we will only look at univariate features where each data column is studied independently of the others. Further properties and bivariate features will be the topic of the next lesson.\n",
    "</p>\n",
    "\n",
    "::::::::::::::::::::::::::::::::::::::::::::::::\n",
    "\n",
    "## Work Through Example\n",
    "\n",
    ":::::::::::::::::::::::::::::::::::::::::::::::: discussion\n",
    "\n",
    "## Reading data into a Pandas DataFrame\n",
    "\n",
    "<p style='text-align: justify;'>\n",
    "The small practice data file for this section is called 'everleys_data.csv' and can be downloaded using the link given above in \"Materials for this Lesson\". To start, please create a subfolder called 'data' in the current directory and put the data file in it. It can now be accessed using the relative path `data/everleys_data.csv` or `data\\everleys_data.csv`, respectively.\n",
    "</p>\n",
    "\n",
    "<p style='text-align: justify;'>\n",
    "The file `everleys_data.csv` contains blood concentrations of calcium and sodium ions from 17 patients with Everley's syndrome. The data are taken from a [BMJ statistics tutorial](https://www.bmj.com/about-bmj/resources-readers/publications/statistics-square-one/7-t-tests). The data are stored as comma-separated values (csv), two values for each patient.\n",
    "</p>\n",
    "<p style='text-align: justify;'>\n",
    "To get to know a dataset, we will use the Pandas package and the Matplotlib plotting library. The Pandas package for data science is included in the Anaconda distribution of Python. Check this [link for installation instructions](https://pandas.pydata.org/getting_started.html) to get started.\n",
    "</p>\n",
    "\n",
    "If you are not using the Anaconda distribution, please refer to [these guidelines](https://pandas.pydata.org/docs/getting_started/install.html).\n",
    "\n",
    "<p style='text-align: justify;'>\n",
    "To use the functions contained in Pandas they need to be imported. Our dataset is in '.csv' format, and we therefore need to read it from a csv file. For this, we import the function `read_csv`. This function will create a _Pandas dataframe_.\n",
    "</p>\n",
    "\n",
    "::::::::::::::::::::::::::::::::::::::::::::::::"
   ]
  },
  {
   "cell_type": "code",
   "execution_count": null,
   "id": "c2628fd7",
   "metadata": {},
   "outputs": [],
   "source": [
    "from pandas import read_csv\n"
   ]
  },
  {
   "cell_type": "markdown",
   "id": "2b776b34",
   "metadata": {},
   "source": [
    "<p style='text-align: justify;'>\n",
    "Executing this code does not lead to any output on the screen. However, the function is now ready to be used. To use it, we type its name and provide the required arguments. The following code should import the Everley's data into your JupyterLab notebook (or other Python environment):\n",
    "</p>\n"
   ]
  },
  {
   "cell_type": "code",
   "execution_count": null,
   "id": "bc377654",
   "metadata": {
    "lines_to_next_cell": 2
   },
   "outputs": [],
   "source": [
    "# for Mac OSX and Linux\n",
    "# (please go to the next cell if using Windows)\n",
    "\n",
    "df = read_csv(\"data/everleys_data.csv\")\n"
   ]
  },
  {
   "cell_type": "code",
   "execution_count": null,
   "id": "584e98da",
   "metadata": {},
   "outputs": [],
   "source": [
    "# Please uncomment for Windows\n",
    "# (please go to previous cell if using Mac OSX or Linux)\n",
    "\n",
    "# df = read_csv(\"data\\everleys_data.csv\")\n"
   ]
  },
  {
   "cell_type": "markdown",
   "id": "97a4d2a2",
   "metadata": {},
   "source": [
    "<p style='text-align: justify;'>\n",
    "This code uses the `read_csv` function from Pandas to read data from a data file, in this case a file with extension '.csv'. Note that the location of the data file is specified within quotes by the relative path to the subfolder 'data' followed by the file name. Use the JupyterLab file browser to check that subfolder exists and has the file in it.\n",
    "</p>\n",
    "\n",
    "![](fig/subfolder_data.png \"Screenshot of subfolder 'data' \")\n",
    "\n",
    "After execution of the code, the data are contained in a variable called `df`. This is a structure referred to as a Pandas _DataFrame_.\n",
    "\n",
    "> A [__Pandas dataframe__](https://pandas.pydata.org/pandas-docs/stable/user_guide/dsintro.html#dataframe) is a 2-dimensional labeled data structure with columns of potentially different types. You can think of it as a spreadsheet."
   ]
  },
  {
   "cell_type": "markdown",
   "id": "ced4a0e4",
   "metadata": {},
   "source": [
    "To see the contents of `df`, simply use:\n"
   ]
  },
  {
   "cell_type": "code",
   "execution_count": null,
   "id": "ea43aea0",
   "metadata": {},
   "outputs": [],
   "source": [
    "df\n"
   ]
  },
  {
   "cell_type": "markdown",
   "id": "dce570a0",
   "metadata": {},
   "source": [
    "(Compare with the result of `print(df)` which displays the contents in a different format.)\n",
    "\n",
    "<p style='text-align: justify;'>\n",
    "The output shows in the first column an index, integers from 0 to 17; and the calcium and sodium concentrations in columns 2 and 3, respectively. The default indexing starts from zero (Python is a 'zero-based' programming language).\n",
    "</p>\n",
    "\n",
    "<p style='text-align: justify;'>\n",
    "In a dataframe, the first column is referred to as _Indices_, the first row is referred to as _Labels_. Note that the row with the labels is excluded from the row count. Similarly, the row with the indices is excluded from the column count.\n",
    "</p>\n",
    "\n",
    "For large data sets, the function `head` is a convenient way to get a feel of the dataset.\n"
   ]
  },
  {
   "cell_type": "code",
   "execution_count": null,
   "id": "607b21a9",
   "metadata": {},
   "outputs": [],
   "source": [
    "df.head()"
   ]
  },
  {
   "cell_type": "markdown",
   "id": "a15fd091",
   "metadata": {},
   "source": [
    "<p style='text-align: justify;'>\n",
    "Without any input argument, this displays the first five data lines of the dataframe. You can specify alter the number of rows displayed by including a single integer as argument, e.g. `head(10)`.\n",
    "</p>\n",
    "\n",
    "<p style='text-align: justify;'>\n",
    "If you feel there are too many decimal places in the default view, you can restrict their number by using the `round` function:\n",
    "</p>\n"
   ]
  },
  {
   "cell_type": "code",
   "execution_count": null,
   "id": "0979e292",
   "metadata": {},
   "outputs": [],
   "source": [
    "df.head().round(2)"
   ]
  },
  {
   "cell_type": "markdown",
   "id": "523f31c9",
   "metadata": {},
   "source": [
    "<p style='text-align: justify;'>\n",
    "While we can see how many rows there are in a dataframe when we display the whole data frame and look at the last index, there is a convenient way to obtain the number directly:\n",
    "</p>"
   ]
  },
  {
   "cell_type": "code",
   "execution_count": null,
   "id": "37dedf40",
   "metadata": {},
   "outputs": [],
   "source": [
    "no_rows = len(df)\n",
    "\n",
    "print('Data frame has', no_rows, 'rows')\n"
   ]
  },
  {
   "cell_type": "markdown",
   "id": "eb02e7f2",
   "metadata": {},
   "source": [
    "You could see above, that the columns of the dataframe have labels. To see all labels:\n"
   ]
  },
  {
   "cell_type": "code",
   "execution_count": null,
   "id": "c0196662",
   "metadata": {},
   "outputs": [],
   "source": [
    "column_labels = df.columns\n",
    "\n",
    "print(column_labels)\n"
   ]
  },
  {
   "cell_type": "markdown",
   "id": "9faf6f39",
   "metadata": {},
   "source": [
    "Now we can count the labels to obtain the number of columns:\n"
   ]
  },
  {
   "cell_type": "code",
   "execution_count": null,
   "id": "20e99d1c",
   "metadata": {},
   "outputs": [],
   "source": [
    "no_columns = len(column_labels)\n",
    "\n",
    "print('Data frame has', no_columns, 'columns')\n"
   ]
  },
  {
   "cell_type": "markdown",
   "id": "fc1417cf",
   "metadata": {},
   "source": [
    "<p style='text-align: justify;'>\n",
    "And if you want to have both the number of the rows and the columns together, use `shape`. Shape returns a tuple of two numbers, first the number of rows, then the number of columns.\n",
    "</p>"
   ]
  },
  {
   "cell_type": "code",
   "execution_count": null,
   "id": "ab77f9ba",
   "metadata": {
    "lines_to_next_cell": 2
   },
   "outputs": [],
   "source": [
    "df_shape = df.shape\n",
    "\n",
    "print('Data frame has', df_shape[0], 'rows and',df_shape[1],  'columns')\n"
   ]
  },
  {
   "cell_type": "markdown",
   "id": "56ad7816",
   "metadata": {},
   "source": [
    "Notice that `shape` (like `columns`) is not followed by round parenthesis. It is not a function that can take arguments. Technically, `shape` is a 'property' of the dataframe."
   ]
  },
  {
   "cell_type": "markdown",
   "id": "80588ac4",
   "metadata": {},
   "source": [
    "To find out what data type is contained in each of the columns, us `dtypes`, another 'property':\n"
   ]
  },
  {
   "cell_type": "code",
   "execution_count": null,
   "id": "14c9a721",
   "metadata": {
    "lines_to_next_cell": 2
   },
   "outputs": [],
   "source": [
    "df.dtypes"
   ]
  },
  {
   "cell_type": "markdown",
   "id": "9875202c",
   "metadata": {},
   "source": [
    "In this case, both columns contain floating point (decimal) numbers.\n",
    "\n",
    ":::::::::::::::::::::::: challenge\n",
    "\n",
    "## DIY1: Read data into a dataframe\n",
    "\n",
    "<p style='text-align: justify;'>\n",
    "Download the data file 'loan_data.csv' using the link given above in \"Materials for this Lesson\". It contains data that can be used for the assessment of loan applications. Read the data into a DataFrame. It is best to assign it a name other than 'df' (to avoid overwriting the Evereley data set).\n",
    "</p>\n",
    "\n",
    "<p style='text-align: justify;'>\n",
    "Display the first ten rows of the Loan data set to see its contents. It is taken from a [tutorial on Data Handling in Python](https://www.analyticsvidhya.com/blog/2016/01/complete-tutorial-learn-data-science-python-scratch-2/) which you might find useful for further practice.\n",
    "</p>\n",
    "\n",
    "> From this exercise we can see that a dataframe can contain different types of data: real numbers (e.g. LoanAmount), integers (ApplicantIncome), categorical data (Gender), and strings (Loan_ID).\n",
    "\n",
    "::::::::::::::::: solution"
   ]
  },
  {
   "cell_type": "code",
   "execution_count": null,
   "id": "93fc16bd",
   "metadata": {
    "lines_to_next_cell": 0
   },
   "outputs": [],
   "source": [
    "from pandas import read_csv\n",
    "# dataframe from .csv file\n",
    "df_loan = read_csv(\"data/loan_data.csv\")\n",
    "# display contents\n",
    "df_loan.head(10)"
   ]
  },
  {
   "cell_type": "markdown",
   "id": "2508a6d7",
   "metadata": {},
   "source": [
    ":::::::::::::::::\n",
    "::::::::::::::::::::::::"
   ]
  },
  {
   "cell_type": "markdown",
   "id": "5c2568c0",
   "metadata": {},
   "source": [
    "## Accessing data in a DataFrame\n",
    "\n",
    "<p style='text-align: justify;'>\n",
    "If a datafile is large and you only want to check the format of data in a specific column, you can limit the display to that column.\n",
    "To access data contained in a specific column of a dataframe, we can use a similar convention as in a Python dictionary, treating the column names as 'keys'. E.g. to show all rows in column 'Calcium', use:\n",
    "</p>"
   ]
  },
  {
   "cell_type": "code",
   "execution_count": null,
   "id": "724c9b75",
   "metadata": {},
   "outputs": [],
   "source": [
    "df['calcium']\n"
   ]
  },
  {
   "cell_type": "markdown",
   "id": "1d31f7eb",
   "metadata": {},
   "source": [
    "To access individual rows of a column we use two pairs of square brackets:"
   ]
  },
  {
   "cell_type": "code",
   "execution_count": null,
   "id": "5e7a09bb",
   "metadata": {},
   "outputs": [],
   "source": [
    "df['calcium'][0:3]\n"
   ]
  },
  {
   "cell_type": "markdown",
   "id": "8dc20a5e",
   "metadata": {},
   "source": [
    "<p style='text-align: justify;'>\n",
    "Here all rules for [slicing](https://docs.python.org/3/tutorial/introduction.html) can be applied.\n",
    "As for lists and tuples, the indexing of rows is semi-inclusive, lower boundary included, upper boundary excluded.\n",
    "Note that the first pair of square brackets refers to a column and the second pair refers to the rows. This is different from e.g. accessing items in a nested list.\n",
    "</p>\n",
    "\n",
    "Accessing items in a Pandas dataframe is analogous to accessing the values in a Python dictionary by referring to its keys."
   ]
  },
  {
   "cell_type": "markdown",
   "id": "97dd3b43",
   "metadata": {},
   "source": [
    "To access non-contiguous elements, we use an additional pair of square brackets (as if for a list within a list):\n"
   ]
  },
  {
   "cell_type": "code",
   "execution_count": null,
   "id": "d74e92bb",
   "metadata": {},
   "outputs": [],
   "source": [
    "df['calcium'][[1, 3, 7]]"
   ]
  },
  {
   "cell_type": "markdown",
   "id": "ff430019",
   "metadata": {},
   "source": [
    "<p style='text-align: justify;'>\n",
    "Another possibility to index and slice a dataframe is the use of the 'index location' or `iloc` property. It refers first to rows and then to columns by index, all within a single pair of brackets. For example, to get all rows of the first column (index `0`), you use:\n",
    "</p>"
   ]
  },
  {
   "cell_type": "code",
   "execution_count": null,
   "id": "b559edaa",
   "metadata": {},
   "outputs": [],
   "source": [
    "df.iloc[:, 0]"
   ]
  },
  {
   "cell_type": "markdown",
   "id": "26ce841c",
   "metadata": {},
   "source": [
    "To display only the first three calcium concentrations, you use slicing, remembering that the upper bound is excluded):"
   ]
  },
  {
   "cell_type": "code",
   "execution_count": null,
   "id": "01d42a37",
   "metadata": {},
   "outputs": [],
   "source": [
    "df.iloc[0:3, 0]"
   ]
  },
  {
   "cell_type": "markdown",
   "id": "697f5388",
   "metadata": {},
   "source": [
    "To access non-consecutive values, we can use a pair of square brackets within the pair of square brackets:"
   ]
  },
  {
   "cell_type": "code",
   "execution_count": null,
   "id": "4439bf53",
   "metadata": {},
   "outputs": [],
   "source": [
    "df.iloc[[2, 4, 7], 0]\n"
   ]
  },
  {
   "cell_type": "markdown",
   "id": "2e5fad7b",
   "metadata": {},
   "source": [
    "Similarly, we can access the values from multiple columns:"
   ]
  },
  {
   "cell_type": "code",
   "execution_count": null,
   "id": "38370b8b",
   "metadata": {},
   "outputs": [],
   "source": [
    "df.iloc[[2, 4, 7], :]\n"
   ]
  },
  {
   "cell_type": "markdown",
   "id": "3dcc087d",
   "metadata": {},
   "source": [
    "To pick only the even rows from the two columns, check this colon notation:"
   ]
  },
  {
   "cell_type": "code",
   "execution_count": null,
   "id": "4230dbba",
   "metadata": {},
   "outputs": [],
   "source": [
    "df.iloc[:18:2, :]\n"
   ]
  },
  {
   "cell_type": "markdown",
   "id": "0ca9cf77",
   "metadata": {},
   "source": [
    "The number after the second colon indicates the stepsize.\n",
    "\n",
    ":::::::::::::::::::::::::::::::::: challenge\n",
    "\n",
    "## DIY2: Select data from dataframe\n",
    "\n",
    "Display the calcium and sodium concentrations of all patients except the first. Check the model solution at the bottom for options.\n",
    "\n",
    "::::::::::::::::: solution"
   ]
  },
  {
   "cell_type": "code",
   "execution_count": null,
   "id": "8df0082f",
   "metadata": {},
   "outputs": [],
   "source": [
    "df[['calcium', 'sodium']][1:]"
   ]
  },
  {
   "cell_type": "markdown",
   "id": "60d3c508",
   "metadata": {},
   "source": [
    ":::::::::::::::::\n",
    "\n",
    "::::::::::::::::::::::::::::::::::\n",
    "\n",
    "Mixing the ways to access specific data in a dataframe can be confusing and needs practice.\n",
    "\n",
    "### **Search for missing values**\n",
    "\n",
    "Some tables contain missing entries. You can check a dataframe for such missing entries. If no missing entry is found, the function `isnull` will return `False`.\n"
   ]
  },
  {
   "cell_type": "code",
   "execution_count": null,
   "id": "9661e9cc",
   "metadata": {},
   "outputs": [],
   "source": [
    "df.isnull().any()\n"
   ]
  },
  {
   "cell_type": "markdown",
   "id": "4819a0ee",
   "metadata": {},
   "source": [
    "This shows that there are no missing entries in our dataframe.\n",
    "\n",
    ":::::::::::::::::::::::::::::::::: challenge\n",
    "## DIY3: Find NaN in dataframe\n",
    "\n",
    "In the Loan data set, check the entry 'Self-employed' for ID LP001059. It shows how a missing value is represented as 'NaN' (not a number).\n",
    "\n",
    " Verify that the output of `isnull` in this case is `True`\n",
    "\n",
    "::::::::::::::::: solution"
   ]
  },
  {
   "cell_type": "code",
   "execution_count": null,
   "id": "7aef07b0",
   "metadata": {
    "lines_to_next_cell": 2
   },
   "outputs": [],
   "source": [
    "df_loan['Self_Employed'][8]"
   ]
  },
  {
   "cell_type": "code",
   "execution_count": null,
   "id": "7cfbbb46",
   "metadata": {},
   "outputs": [],
   "source": [
    "df_loan['Self_Employed'][8:9].isnull()"
   ]
  },
  {
   "cell_type": "markdown",
   "id": "f0d5f087",
   "metadata": {},
   "source": [
    ":::::::::::::::::\n",
    "\n",
    "::::::::::::::::::::::::::::::::::"
   ]
  },
  {
   "cell_type": "markdown",
   "id": "9fb743b0",
   "metadata": {},
   "source": [
    "## Basic data features\n",
    "\n",
    "### **Summary Statistics**\n",
    "\n",
    "To get a summary of basic data features use the function `describe`:\n"
   ]
  },
  {
   "cell_type": "code",
   "execution_count": null,
   "id": "7188c614",
   "metadata": {},
   "outputs": [],
   "source": [
    "description = df.describe()\n",
    "\n",
    "description\n"
   ]
  },
  {
   "cell_type": "markdown",
   "id": "04195e8d",
   "metadata": {},
   "source": [
    "<p style='text-align: justify;'>\n",
    "The `describe` function produces a new dataframe (here called 'description') that contains the number of samples, the mean, the standard deviation, minimum, 25th, 50th, 75th  percentile, and the maximum value for each column of the data. Note that the indices of the rows have now been replaced by strings. To access rows, it is possible to refer to those names using the `loc` property. E.g. to access the mean of the calcium concentrations from the description, each of the following is valid:\n",
    "</p>\n"
   ]
  },
  {
   "cell_type": "code",
   "execution_count": null,
   "id": "145ff8e5",
   "metadata": {
    "results": "hold"
   },
   "outputs": [],
   "source": [
    "# Option 1\n",
    "description.loc['mean']['calcium']\n",
    "\n",
    "# Option 2\n",
    "description.loc['mean'][0]\n",
    "\n",
    "# Option 3\n",
    "description['calcium']['mean']\n",
    "\n",
    "# Option 4\n",
    "description['calcium'][1]\n"
   ]
  },
  {
   "cell_type": "markdown",
   "id": "117c3f3a",
   "metadata": {},
   "source": [
    ":::::::::::::::::::::::::::::::::: challenge\n",
    "## DIY4: Practice\n",
    "\n",
    "<p style='text-align: justify;'>\n",
    "Use your own .csv data set to practice. (If you don't have a data set at hand, any excel table can be exported as .csv.) Read it into a dataframe, check its header, access individual values or sets of values. Create a statistics using `describe` and check for missing values using `.isnull`.\n",
    "</p>\n",
    "\n",
    "::::::::::::::::: solution\n",
    " [ad libitum]\n",
    ":::::::::::::::::\n",
    "\n",
    "::::::::::::::::::::::::::::::::::\n",
    "\n",
    "### **Iterating through the columns**\n",
    "\n",
    "Now we know how to access all data in a dataframe and how to get a summary statistics over each column.\n",
    "\n",
    "Here is code to iterate through the columns and access the first two concentrations:\n"
   ]
  },
  {
   "cell_type": "code",
   "execution_count": null,
   "id": "fef7ab4d",
   "metadata": {},
   "outputs": [],
   "source": [
    "for col in df:\n",
    "\n",
    "    print(df[col][0:2])\n"
   ]
  },
  {
   "cell_type": "markdown",
   "id": "77bb33c9",
   "metadata": {},
   "source": [
    "As a slightly more complex example, we access the median ('50%') of each column in the description and add it to a list:\n"
   ]
  },
  {
   "cell_type": "code",
   "execution_count": null,
   "id": "172506af",
   "metadata": {
    "results": "hold"
   },
   "outputs": [],
   "source": [
    "conc_medians = list()\n",
    "\n",
    "for col in df:\n",
    "\n",
    "    conc_medians.append(df[col].describe()['50%'])\n",
    "\n",
    "print('The columns are: ', list(df.columns))\n",
    "print('The medians are: ', conc_medians)\n"
   ]
  },
  {
   "cell_type": "markdown",
   "id": "9c63bfb8",
   "metadata": {},
   "source": [
    "<p style='text-align: justify;'>\n",
    "This approach is useful for data frames with a large number of columns. For instance, it is possible to then create a boxplot or histogram for the means, medians etc. of the dataframe and thus to get an overview of all (comparable) columns.\n",
    "</p>\n",
    "\n",
    "### **Selecting a subset based on a template**\n",
    "\n",
    "<p style='text-align: justify;'>\n",
    "An analysis of a data set may need to be done on part of the data. This can often be formulated by using a logical condition which specifies the required subset.\n",
    "</p>\n",
    "\n",
    "<p style='text-align: justify;'>\n",
    "For this we will assume that some of the data are labelled '0' and some are labelled '1'. Let us therefore see how to add a new column to our Evereleys data frame which contains the (in this case arbitrary) labels.\n",
    "</p>\n",
    "\n",
    "<p style='text-align: justify;'>\n",
    "First we randomly create as many labels as we have rows in the data frame. We can use the `randint` function which we import from 'numpy.random'. `randint` in its simple form takes two arguments. First the upper bound of the integer needed, where by default it starts from zero. As Python is exclusive on the upper bound, providing '2' will thus yield either '0' or '1' only.\n",
    "</p>"
   ]
  },
  {
   "cell_type": "code",
   "execution_count": null,
   "id": "b3898bcf",
   "metadata": {
    "results": "hold"
   },
   "outputs": [],
   "source": [
    "from numpy.random import randint\n",
    "\n",
    "no_rows = len(df)\n",
    "\n",
    "randomLabel = randint(2, size=no_rows)\n",
    "\n",
    "print('Number of rows:  ', no_rows)\n",
    "print('Number of Labels:', len(randomLabel))\n",
    "print('Labels:          ', randomLabel)\n"
   ]
  },
  {
   "cell_type": "markdown",
   "id": "76df8217",
   "metadata": {},
   "source": [
    "Note how we obtain the number of rows (18) using `len` and do not put it directly into the code.\n",
    "\n",
    "<p style='text-align: justify;'>\n",
    "Now we create a new data column in our `df` dataframe which contains the labels. To create a new column, you can simply refer to a column name that does not yet exist and assign values to it. Let us call it 'gender', assuming that '0' represents male and '1' represents female.\n",
    "</p>\n",
    "\n",
    "As gender specification can include more than two labels, try to create a column with more than two randomly assigned labels e.g. (0, 1, 2)."
   ]
  },
  {
   "cell_type": "code",
   "execution_count": null,
   "id": "5d0e751b",
   "metadata": {},
   "outputs": [],
   "source": [
    "df['gender'] = randomLabel\n",
    "\n",
    "df.head()"
   ]
  },
  {
   "cell_type": "markdown",
   "id": "d25b6764",
   "metadata": {},
   "source": [
    "<p style='text-align: justify;'>\n",
    "Now we can use the information contained in 'gender' to filter the data by gender. To achieve this, we use a conditional statement. Let us check which of the rows are labelled as '1':\n",
    "</p>"
   ]
  },
  {
   "cell_type": "code",
   "execution_count": null,
   "id": "7da66828",
   "metadata": {},
   "outputs": [],
   "source": [
    "df['gender'] == 1"
   ]
  },
  {
   "cell_type": "markdown",
   "id": "dde0a44b",
   "metadata": {},
   "source": [
    "<p style='text-align: justify;'>\n",
    "If we assign the result of the conditional statement (Boolean True or False) to a variable, then this variable can act as a template to filter the data. If we call the data frame with that variable, we will only get the rows where the condition was found to be True:\n",
    "</p>"
   ]
  },
  {
   "cell_type": "code",
   "execution_count": null,
   "id": "b7bf7799",
   "metadata": {},
   "outputs": [],
   "source": [
    "df_female = df['gender'] == 1\n",
    "\n",
    "df[df_female]\n"
   ]
  },
  {
   "cell_type": "markdown",
   "id": "31323722",
   "metadata": {},
   "source": [
    "Using the Boolean, we only pick the rows that are labelled '1' and thus get a subset of the data according to the label.\n",
    "\n",
    ":::::::::::::::::::::::::::::::::: challenge\n",
    "\n",
    "## DIY5: Using a template\n",
    "\n",
    "Modify the code to calculate the number of samples labelled 0 and check the number of rows of that subset.\n",
    "\n",
    "::::::::::::::::: solution"
   ]
  },
  {
   "cell_type": "code",
   "execution_count": null,
   "id": "9505c160",
   "metadata": {
    "lines_to_next_cell": 0,
    "results": "hold"
   },
   "outputs": [],
   "source": [
    "from numpy.random import randint\n",
    "no_rows = len(df)\n",
    "randomLabel = randint(2, size=no_rows)\n",
    "df['gender'] = randomLabel\n",
    "df_male = df['gender'] == 0\n",
    "no_males = len(df[df_male])\n",
    "print(no_males, 'samples are labelled \"male\".')"
   ]
  },
  {
   "cell_type": "markdown",
   "id": "7d8848db",
   "metadata": {},
   "source": [
    ":::::::::::::::::\n",
    "::::::::::::::::::::::::::::::::::\n",
    "\n",
    "## Visualisation of data\n",
    "<p style='text-align: justify;'>\n",
    "It is easy to see from the numbers that the concentrations of sodium are much higher than that of calcium. However, to also compare the medians, percentiles and the spread of the data it is better to use visualisation.\n",
    "</p>\n",
    "\n",
    "<p style='text-align: justify;'>\n",
    "The simplest way of visualisation is to use Pandas functionality which offers direct ways of plotting. Here is an example where a boxplot is created for each column:\n",
    "</p>\n"
   ]
  },
  {
   "cell_type": "code",
   "execution_count": null,
   "id": "1a1b5572",
   "metadata": {},
   "outputs": [],
   "source": [
    "df = read_csv(\"data/everleys_data.csv\")\n",
    "df.boxplot()\n"
   ]
  },
  {
   "cell_type": "markdown",
   "id": "a047a1fc",
   "metadata": {},
   "source": [
    "<p style='text-align: justify;'>\n",
    "By default, boxplots are shown for all columns if no further argument is given to the function (empty round parenthesis). As the calcium plot is rather squeezed we may wish to see it individually. This can be done by specifying the calcium column as an argument:\n",
    "</p>"
   ]
  },
  {
   "cell_type": "code",
   "execution_count": null,
   "id": "a147fa58",
   "metadata": {},
   "outputs": [],
   "source": [
    "# Boxplot of calcium results\n",
    "df.boxplot(column='calcium')\n"
   ]
  },
  {
   "cell_type": "markdown",
   "id": "8bf9a841",
   "metadata": {},
   "source": [
    "## Plots using Matplotlib\n",
    "\n",
    "> [__Matplotlib__](https://matplotlib.org) is a comprehensive library for creating static, animated, and interactive visualizations in Python.\n",
    "\n",
    "<p style='text-align: justify;'>\n",
    "The above is an easy way to create boxplots directly on the dataframe. It is based on the library Matplotlib and specifically uses the __pyplot library__. For simplicity, the code is put in a convenient Pandas function.\n",
    "</p>\n",
    "\n",
    "<p style='text-align: justify;'>\n",
    "However, we are going to use __Matplotlib__ extensively later on in the course, and we therefore now introduce the direct, generic way of using it.\n",
    "</p>\n",
    "\n",
    "For this, we import the function `subplots` from the [pyplot library](https://matplotlib.org/stable/api/pyplot_summary.html):"
   ]
  },
  {
   "cell_type": "code",
   "execution_count": null,
   "id": "9022fc9f",
   "metadata": {},
   "outputs": [],
   "source": [
    "from matplotlib.pyplot import subplots, show\n"
   ]
  },
  {
   "cell_type": "markdown",
   "id": "4e2536ff",
   "metadata": {},
   "source": [
    "<p style='text-align: justify;'>\n",
    "The way to use `subplots` is to first set up a figure environment (below it is called 'fig') and an empty coordinate system (below called 'ax'). The plot is then done using one of the many methods available in Matplotlib. We apply it to the coordinate system 'ax'.\n",
    "</p>\n",
    "\n",
    "<p style='text-align: justify;'>\n",
    "As an example, let us create a [boxplot](https://matplotlib.org/api/_as_gen/matplotlib.pyplot.boxplot.html#matplotlib.pyplot.boxplot|) of the calcium variable. As an argument of the function we need to specify the data. We can use the values of the 'calcium' concentrations from the column with that name:\n",
    "</p>"
   ]
  },
  {
   "cell_type": "code",
   "execution_count": null,
   "id": "b60db39c",
   "metadata": {
    "collapse": true,
    "tags": [
     "remove_output"
    ]
   },
   "outputs": [],
   "source": [
    "fig, ax = subplots()\n",
    "\n",
    "ax.boxplot(df['calcium'])\n",
    "\n",
    "ax.set_title('Boxplot of Everley Calcium')\n",
    "\n",
    "show()"
   ]
  },
  {
   "cell_type": "markdown",
   "id": "f753557e",
   "metadata": {},
   "source": [
    "Note how following the actual plot we define the title of the plot by referring to the same coordinate system `ax`.\n",
    "\n",
    "The value of `subplots` becomes apparent when we try to create more than one plot in a single figure.\n",
    "\n",
    "<p style='text-align: justify;'>\n",
    "Here is an example to create two boxplots next to each other. The keyword arguments to use is 'ncols' which is the number of figures per row. 'ncols=2' indicates that you want to have two plots next to each other.\n",
    "</p>"
   ]
  },
  {
   "cell_type": "code",
   "execution_count": null,
   "id": "3abbb165",
   "metadata": {
    "collapse": true,
    "tags": [
     "remove_output"
    ]
   },
   "outputs": [],
   "source": [
    "fig, ax = subplots(ncols=2)\n",
    "\n",
    "ax[0].boxplot(df['calcium'])\n",
    "ax[0].set_title('Calcium')\n",
    "\n",
    "ax[1].boxplot(df['sodium'])\n",
    "ax[1].set_title('Sodium');\n",
    "\n",
    "show()\n"
   ]
  },
  {
   "cell_type": "markdown",
   "id": "e8855add",
   "metadata": {},
   "source": [
    "Note that you now have to refer to each of the subplots by indexing the coordinate system 'ax'. This figure gives a good overview of the Everley's data."
   ]
  },
  {
   "cell_type": "markdown",
   "id": "9001da83",
   "metadata": {},
   "source": [
    "If you prefer to have the boxplots of both columns in a single figure, that can also be done:\n"
   ]
  },
  {
   "cell_type": "code",
   "execution_count": null,
   "id": "9add7bdf",
   "metadata": {
    "collapse": true,
    "lines_to_next_cell": 2,
    "tags": [
     "remove_output"
    ]
   },
   "outputs": [],
   "source": [
    "fig, ax = subplots(ncols=1, nrows=1)\n",
    "\n",
    "ax.boxplot([df['calcium'], df['sodium']], positions=[1, 2])\n",
    "ax.set_title('Boxplot of Calcium (left) and Sodium (right)')\n",
    "\n",
    "show()"
   ]
  },
  {
   "cell_type": "markdown",
   "id": "1881551b",
   "metadata": {},
   "source": [
    ":::::::::::::::::::::::::::::: challenge\n",
    "### DIY6: Boxplot from Loan data\n",
    "\n",
    "Plot the boxplots of the 'ApplicantIncome' and the 'CoapplicantIncome' in the Loan data using the above code.\n",
    "\n",
    "::::::::::::::::: solution"
   ]
  },
  {
   "cell_type": "code",
   "execution_count": null,
   "id": "e6899ae4",
   "metadata": {
    "collapse": true,
    "tags": [
     "remove_output"
    ]
   },
   "outputs": [],
   "source": [
    "fig, ax = subplots(ncols=1, nrows=1)\n",
    "ax.boxplot([df_loan['ApplicantIncome'], df_loan['CoapplicantIncome']], positions=[1, 2])\n",
    "ax.set_title('Applicant Income (left) & Co-Applicant Income (right)');\n",
    "\n",
    "show()"
   ]
  },
  {
   "cell_type": "markdown",
   "id": "59d781c5",
   "metadata": {},
   "source": [
    ":::::::::::::::::\n",
    "::::::::::::::::::::::::::::::\n",
    "\n",
    "### **Histogram**\n",
    "<p style='text-align: justify;'>\n",
    "Another good overview is the histogram: Containers or 'bins' are created over the range of values found within a column and the count of the values for each bin is plotted on the vertical axis.\n",
    "</p>"
   ]
  },
  {
   "cell_type": "code",
   "execution_count": null,
   "id": "51b97cd7",
   "metadata": {
    "collapse": true,
    "lines_to_next_cell": 2,
    "tags": [
     "remove_output"
    ]
   },
   "outputs": [],
   "source": [
    "fig, ax = subplots(ncols=2, nrows=1)\n",
    "\n",
    "ax[0].hist(df['calcium'])\n",
    "ax[0].set(xlabel='Calcium', ylabel='Count');\n",
    "\n",
    "ax[1].hist(df['sodium'])\n",
    "ax[1].set(xlabel='Sodium', ylabel='Count');\n",
    "\n",
    "fig.suptitle('Histograms of Everley concentrations', fontsize=15);\n",
    "\n",
    "show()"
   ]
  },
  {
   "cell_type": "markdown",
   "id": "3258df11",
   "metadata": {},
   "source": [
    "This also shows how to add labels to the axes and a title to the overall figure.\n",
    "\n",
    "This uses the default value for the generation of the bins. It is set to 10 bins over the range of which values are found. The number of bins in the histogram can be changed using the keyword argument 'bins':\n"
   ]
  },
  {
   "cell_type": "code",
   "execution_count": null,
   "id": "733c6182",
   "metadata": {
    "collapse": true,
    "lines_to_next_cell": 2,
    "tags": [
     "remove_output"
    ]
   },
   "outputs": [],
   "source": [
    "fig, ax = subplots(ncols=2, nrows=1)\n",
    "\n",
    "ax[0].hist(df['calcium'], bins=5)\n",
    "ax[0].set(xlabel='Calcium, 5 bins', ylabel='Count');\n",
    "\n",
    "ax[1].hist(df['calcium'], bins=15)\n",
    "ax[1].set(xlabel='Calcium, 15 bins', ylabel='Count');\n",
    "fig.suptitle('Histograms with Different Binnings', fontsize=16);\n",
    "\n",
    "show()"
   ]
  },
  {
   "cell_type": "markdown",
   "id": "ec6b5337",
   "metadata": {},
   "source": [
    "Note how the y-label of the right figure is not placed well. To correct for the placement of the labels and the title, you can use\n",
    "`tight_layout` on the figure:"
   ]
  },
  {
   "cell_type": "code",
   "execution_count": null,
   "id": "40a65b9c",
   "metadata": {
    "collapse": true,
    "tags": [
     "remove_output"
    ]
   },
   "outputs": [],
   "source": [
    "fig, ax = subplots(ncols=2, nrows=1)\n",
    "\n",
    "ax[0].hist(df['calcium'], bins=5)\n",
    "ax[0].set(xlabel='Calcium, 5 bins', ylabel='Count');\n",
    "\n",
    "ax[1].hist(df['calcium'], bins=15)\n",
    "ax[1].set(xlabel='Calcium, 15 bins', ylabel='Count');\n",
    "fig.suptitle('Histograms with Different Binnings', fontsize=16);\n",
    "fig.tight_layout()\n",
    "\n",
    "show()"
   ]
  },
  {
   "cell_type": "markdown",
   "id": "3bb35dfa",
   "metadata": {},
   "source": [
    "::::::::::::::::::::::::::::::: challenge\n",
    "## DIY7: Create the histogram of a column\n",
    "\n",
    "Take the loan data and display the histogram of the loan amount that people asked for. (Loan amounts are divided by 1000, i.e. in k£ on the horizontal axis).  Use e.g. 20 bins.\n",
    "\n",
    "::::::::::::::::: solution\n"
   ]
  },
  {
   "cell_type": "code",
   "execution_count": null,
   "id": "db204fde",
   "metadata": {
    "collapse": true,
    "tags": [
     "remove_output"
    ]
   },
   "outputs": [],
   "source": [
    "# Histogram of loan amounts in k£\n",
    "fig, ax = subplots()\n",
    "ax.hist(df_loan['LoanAmount'], bins=20)\n",
    "ax.set(xlabel='Loan amount', ylabel='Count');\n",
    "ax.set_title('Histograms of Loan Amounts', fontsize=16);\n",
    "\n",
    "show()"
   ]
  },
  {
   "cell_type": "markdown",
   "id": "08d970b1",
   "metadata": {},
   "source": [
    ":::::::::::::::::\n",
    ":::::::::::::::::::::::::::::::\n",
    "\n",
    "## Handling the Diabetes Data Set\n",
    "\n",
    "We now return to the data set that started our enquiry into the handling of data in a dataframe.\n",
    "\n",
    "We will now:\n",
    "\n",
    "- Import the diabetes data from 'sklearn'\n",
    "- Check the shape of the dataframe and search for NANs\n",
    "- Get a summary plot of one of its statistical quantities (e.g. mean) for all columns\n",
    "\n",
    "First we import the data set and check its `head`. Wait until the numbers show below the code, it might take a while.\n"
   ]
  },
  {
   "cell_type": "code",
   "execution_count": null,
   "id": "288c1edd",
   "metadata": {
    "results": "hold"
   },
   "outputs": [],
   "source": [
    "from sklearn import datasets\n",
    "\n",
    "diabetes = datasets.load_diabetes()\n",
    "\n",
    "X = diabetes.data\n",
    "\n",
    "from pandas import DataFrame\n",
    "\n",
    "df_diabetes = DataFrame(data=X)\n",
    "\n",
    "df_diabetes.head()\n"
   ]
  },
  {
   "cell_type": "markdown",
   "id": "5f6be0db",
   "metadata": {},
   "source": [
    "If you don't see all columns, use the cursor to scroll to the right.\n",
    "Now let's check the number of columns and rows.\n"
   ]
  },
  {
   "cell_type": "code",
   "execution_count": null,
   "id": "c5e8da55",
   "metadata": {},
   "outputs": [],
   "source": [
    "no_rows = len(df_diabetes)\n",
    "no_cols = len(df_diabetes.columns)\n",
    "\n",
    "print('Rows:', no_rows, 'Columns:', no_cols)\n"
   ]
  },
  {
   "cell_type": "markdown",
   "id": "3e19df2b",
   "metadata": {},
   "source": [
    "There are 442 rows organised in 10 columns.\n",
    "\n",
    "To get an overview, let us extract the mean of each column using 'describe' and plot all means as a bar chart. The Matplotlib function to plot a bar chart is `bar`:"
   ]
  },
  {
   "cell_type": "code",
   "execution_count": null,
   "id": "2a81fa5a",
   "metadata": {
    "results": "hold"
   },
   "outputs": [],
   "source": [
    "conc_means = list()\n",
    "\n",
    "for col in df_diabetes:\n",
    "    conc_means.append(df_diabetes[col].describe()['mean'])\n",
    "\n",
    "print('The columns are: ', list(df_diabetes.columns))\n",
    "print('The medians are: ', conc_means, 2)"
   ]
  },
  {
   "cell_type": "code",
   "execution_count": null,
   "id": "3241c729",
   "metadata": {
    "collapse": true,
    "tags": [
     "remove_output"
    ]
   },
   "outputs": [],
   "source": [
    "fig, ax = subplots()\n",
    "\n",
    "bins = range(10)\n",
    "\n",
    "ax.bar(bins, conc_means);\n",
    "\n",
    "show()"
   ]
  },
  {
   "cell_type": "markdown",
   "id": "b4970d83",
   "metadata": {},
   "source": [
    "<p style='text-align: justify;'>\n",
    "The bars in this plot go up and down. Note, however, that the vertical axis has values ranging from -10^(-16)^ to +10^(-16)^. This means that for all practical purposes all means are zero. This is not a coincidence. The original values have been normalised to zero mean for the purpose of applying some machine learning algorithm to them.\n",
    "</p>\n",
    "\n",
    "In this example, we see how important it is to check the data before working with them.\n",
    "\n",
    "## Exercises\n",
    ":::::::::::::::::::::::::::::::::::::::: challenge\n",
    "\n",
    "#### End of chapter Exercises\n",
    "\n",
    "Download the cervical cancer data set provided, import it using `read_csv`.\n",
    "\n",
    "1. How many rows and columns are there?\n",
    "\n",
    "2. How many columns contain floating point numbers (float64)?\n",
    "\n",
    "3. How many of the subjects are smokers?\n",
    "\n",
    "4. Calculate the percentage of smokers\n",
    "\n",
    "5. Plot the age distribution (with e.g. 50 bins)\n",
    "\n",
    "6. Get the mean and standard distribution of age of first sexual intercourse\n",
    "\n",
    "::::::::::::::::::::: solution\n",
    "\n",
    "## Please check these solutions only after submitting the assignments.\n",
    "\n",
    "### Q1"
   ]
  },
  {
   "cell_type": "code",
   "execution_count": null,
   "id": "4e5bca8e",
   "metadata": {
    "results": "hold"
   },
   "outputs": [],
   "source": [
    "df_cervix = read_csv(\"data/cervical_cancer.csv\")\n",
    "\n",
    "df_cervix.head(10)\n",
    "\n",
    "\n",
    "cervix_rows, cervix_cols = len(df_cervix), len(df_cervix.columns)\n",
    "\n",
    "print('Number of rows:', cervix_rows)\n",
    "print('Number of columns:', cervix_cols)\n"
   ]
  },
  {
   "cell_type": "markdown",
   "id": "bbaea1f1",
   "metadata": {},
   "source": [
    "### Q2"
   ]
  },
  {
   "cell_type": "code",
   "execution_count": null,
   "id": "06d1c3eb",
   "metadata": {},
   "outputs": [],
   "source": [
    "df_types = df_cervix.dtypes == 'float64'\n",
    "\n",
    "print('There are', df_types.sum(), 'columns with floating point numbers')\n",
    "\n",
    "\n",
    "df_types\n"
   ]
  },
  {
   "cell_type": "markdown",
   "id": "78ccb00a",
   "metadata": {},
   "source": [
    "### Q3"
   ]
  },
  {
   "cell_type": "code",
   "execution_count": null,
   "id": "037a6ac9",
   "metadata": {
    "results": "hold"
   },
   "outputs": [],
   "source": [
    "for col in df_cervix:\n",
    "\n",
    "    print(type(df_cervix[col][0]))\n",
    "\n",
    "\n",
    "cervix_smoker = df_cervix['Smokes'] == 1.0\n"
   ]
  },
  {
   "cell_type": "markdown",
   "id": "a8eec634",
   "metadata": {},
   "source": [
    "### Q4"
   ]
  },
  {
   "cell_type": "code",
   "execution_count": null,
   "id": "33e2695a",
   "metadata": {
    "results": "hold"
   },
   "outputs": [],
   "source": [
    "print('There are', cervix_smoker.sum(), 'smokers.')\n",
    "print('This is', round(100*cervix_smoker.sum() / cervix_rows, 1), '% of the total.')\n"
   ]
  },
  {
   "cell_type": "markdown",
   "id": "e5529907",
   "metadata": {
    "lines_to_next_cell": 0
   },
   "source": [
    "### Q5"
   ]
  },
  {
   "cell_type": "code",
   "execution_count": null,
   "id": "99f22192",
   "metadata": {
    "collapse": true,
    "tags": [
     "remove_output"
    ]
   },
   "outputs": [],
   "source": [
    "fig, ax = subplots()\n",
    "\n",
    "ax.hist(df_cervix['Age'], bins=50)\n",
    "ax.set_xlabel('Age', fontsize=20)\n",
    "ax.set_ylabel('Count', fontsize=20)\n",
    "ax.set_title('Age distribution of subjects',  fontsize=24);\n",
    "show()"
   ]
  },
  {
   "cell_type": "markdown",
   "id": "ece66251",
   "metadata": {},
   "source": [
    "### Q6"
   ]
  },
  {
   "cell_type": "code",
   "execution_count": null,
   "id": "bd41e567",
   "metadata": {
    "results": "hold"
   },
   "outputs": [],
   "source": [
    "int_mean = df_cervix['First sexual intercourse'].mean()\n",
    "\n",
    "int_std = df_cervix['First sexual intercourse'].std()\n",
    "\n",
    "print('Mean of age of first sexual intercourse: ', round(int_mean, 1))\n",
    "print('Standard distribution of age of first sexual intercourse: ', round(int_std, 1))\n"
   ]
  },
  {
   "cell_type": "markdown",
   "id": "81072099",
   "metadata": {},
   "source": [
    ":::::::::::::::::::::\n",
    "\n",
    "::::::::::::::::::::::::::::::::::::::::\n",
    "\n",
    "::::::::::::::::::::::::::::::::::::: keypoints\n",
    "\n",
    "- `Pandas` package contains useful functions to work with dataframes.\n",
    "- `iloc` property is used to index and slice a dataframe.\n",
    "- `describe` function is used to get a summary of basic data features.\n",
    "- The simplest way of visualisation is to use Pandas functionality.\n",
    "- `Matplotlib` is a comprehensive library for creating static, animated, and interactive visualizations in Python.\n",
    "::::::::::::::::::::::::::::::::::::::::::::::::"
   ]
  },
  {
   "cell_type": "markdown",
   "id": "67ce2d13",
   "metadata": {},
   "source": [
    "[r-markdown]: https://rmarkdown.rstudio.com/"
   ]
  }
 ],
 "metadata": {
  "jupytext": {
   "cell_metadata_filter": "results,tags,collapse,-all",
   "main_language": "python",
   "notebook_metadata_filter": "-all"
  }
 },
 "nbformat": 4,
 "nbformat_minor": 5
}
