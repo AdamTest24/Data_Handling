{
 "cells": [
  {
   "cell_type": "raw",
   "id": "3e944499",
   "metadata": {},
   "source": [
    "---\n",
    "title: \"Time Series\"\n",
    "teaching: 60\n",
    "exercises: 60\n",
    "---"
   ]
  },
  {
   "cell_type": "markdown",
   "id": "cbc8d808",
   "metadata": {},
   "source": [
    "\n",
    "[**Download Chapter notebook (ipynb)**](04-time_series.ipynb)\n",
    "\n",
    "[<span style=\"color: rgb(255, 0, 0);\">**Mandatory Lesson Feedback Survey**</span>](https://docs.google.com/forms/d/e/1FAIpQLSdr0capF7jloJhPH3Pki1B3LZoKOG16poOpuVJ7SL2LkwLHQA/viewform?pli=1)"
   ]
  },
  {
   "cell_type": "markdown",
   "id": "e04515e8",
   "metadata": {},
   "source": [
    ":::::::::::::::::::::::::::::::::::::: questions\n",
    "\n",
    "- How is time series data visualised?\n",
    "- Why is it necessary to filter the data?\n",
    "- How do we study correlation among time series data points?\n",
    "\n",
    "::::::::::::::::::::::::::::::::::::::::::::::::\n",
    "\n",
    "::::::::::::::::::::::::::::::::::::: objectives\n",
    "\n",
    "- Learning ways to display multiple time series.\n",
    "- Understanding why filtering is required.\n",
    "- Explaining the Fourier spectrum of a time series.\n",
    "- Acquiring knowledge of correlation matrices of time series data.\n",
    "\n",
    "::::::::::::::::::::::::::::::::::::::::::::::::"
   ]
  },
  {
   "cell_type": "markdown",
   "id": "9b537122",
   "metadata": {},
   "source": [
    "<br>\n",
    "<p align = \"center\">\n",
    "<iframe width=\"560\" height=\"315\" src=\"https://www.youtube.com/embed/qWYBBXR8Yrs\" title=\"YouTube video player\" frameborder=\"0\" allow=\"accelerometer; autoplay; clipboard-write; encrypted-media; gyroscope; picture-in-picture\" allowfullscreen></iframe>\n",
    "</p>\n",
    "<br>\n",
    "<p align = \"center\">\n",
    "<iframe width=\"560\" height=\"315\" src=\"https://www.youtube.com/embed/T2Qh7yjHC9M\" title=\"YouTube video player\" frameborder=\"0\" allow=\"accelerometer; autoplay; clipboard-write; encrypted-media; gyroscope; picture-in-picture\" allowfullscreen></iframe>\n",
    "</p>\n",
    "<br>\n",
    "<br>\n",
    "<p align = \"center\">\n",
    "<iframe width=\"560\" height=\"315\" src=\"https://www.youtube.com/embed/46e9RNB-3ag\" title=\"YouTube video player\" frameborder=\"0\" allow=\"accelerometer; autoplay; clipboard-write; encrypted-media; gyroscope; picture-in-picture\" allowfullscreen></iframe>\n",
    "</p>\n",
    "<br>"
   ]
  },
  {
   "cell_type": "markdown",
   "id": "74df0e7f",
   "metadata": {},
   "source": [
    ":::::::::::::::::: prereq\n",
    "\n",
    "## Prerequisites\n",
    "\n",
    "- [Dataframes 1 and 2](01-data_frames_1.Rmd)\n",
    "- [Image Handling](03-image_handling.Rmd)\n",
    "- [Basics of Numpy Arrays]()\n",
    "\n",
    "::::::::::::::::::"
   ]
  },
  {
   "cell_type": "code",
   "execution_count": null,
   "id": "7017581c",
   "metadata": {},
   "outputs": [],
   "source": [
    "from pandas import read_csv\n",
    "\n",
    "from numpy import arange, zeros, linspace, sin, pi, c_, mean, var, array\n",
    "from numpy import correlate, corrcoef, fill_diagonal, amin, amax, asarray\n",
    "from numpy import around\n",
    "from numpy.ma import masked_less, masked_greater\n",
    "\n",
    "from matplotlib.pyplot import subplots, yticks, legend, axis, figure, show\n"
   ]
  },
  {
   "cell_type": "markdown",
   "id": "be04d480",
   "metadata": {},
   "source": [
    "::::::::::::::::::::::::::::::::::: discussion\n",
    "\n",
    "## Python Function\n",
    "\n",
    "<p style='text-align: justify;'>\n",
    "Please execute code below, which defines a function of our own called `plot_series`, before proceeding any further. This function code takes data and creates a plot of all columns as time series, laid out one above the other. When you execute the function code nothing happens. Similar to an import statement, running a function code will only activate it, making it available subsequent use. To action the function itself, you must call this after it has been successfully defined\n",
    "</p>"
   ]
  },
  {
   "cell_type": "code",
   "execution_count": null,
   "id": "4fb036ab",
   "metadata": {},
   "outputs": [],
   "source": [
    "def plot_series(data, sr):\n",
    "    '''\n",
    "    Time series plot of multiple time series\n",
    "    Data are normalised to mean=0 and var=1\n",
    "\n",
    "    data: nxm numpy array. Rows are time points, columns are recordings\n",
    "    sr: sampling rate, same time units as period\n",
    "    '''\n",
    "\n",
    "    samples = data.shape[0]\n",
    "    sensors = data.shape[1]\n",
    "\n",
    "    period = samples // sr\n",
    "\n",
    "    time = linspace(0, period, period*sr)\n",
    "\n",
    "    offset = 5 # for mean=0 and var=1 normalised data\n",
    "\n",
    "    # Calculate means and standard deviations of all columns\n",
    "    means = data.mean(axis=0)\n",
    "    stds = data.std(axis=0)\n",
    "\n",
    "    # Plot each series with an offset\n",
    "    fig, ax = subplots(figsize=(7, 8))\n",
    "\n",
    "    ax.plot(time, (data - means)/stds + offset*arange(sensors-1,-1,-1));\n",
    "\n",
    "    ax.plot(time, zeros((samples, sensors)) + offset*arange(sensors-1,-1,-1),'--',color='gray');\n",
    "\n",
    "    yticks([]);\n",
    "\n",
    "    names = [str(x) for x in range(sensors)]\n",
    "    legend(names)\n",
    "\n",
    "    ax.set(xlabel='Time')\n",
    "\n",
    "    axis('tight');\n",
    "\n",
    "    return fig, ax"
   ]
  },
  {
   "cell_type": "markdown",
   "id": "5862a14d",
   "metadata": {},
   "source": [
    ":::::::::::::::::::::::::::::::::::\n",
    "\n",
    "## Example: Normal and Pathological EEG\n",
    "\n",
    "<p style='text-align: justify;'>\n",
    "As an example, let us import two sets of time series data and convert these into NumPy arrays, that we will call _data_back_ and _data_epil_. They represent a human electroencephalogram (EEG), as recorded during normal _background_ activity and during an epileptic seizure, referred to as an _absence_ seizure.\n",
    "</p>"
   ]
  },
  {
   "cell_type": "code",
   "execution_count": null,
   "id": "990d3413",
   "metadata": {},
   "outputs": [],
   "source": [
    "df_back = read_csv(\"data/EEG_background.txt\", delim_whitespace=True)\n",
    "df_epil = read_csv(\"data/EEG_absence.txt\", delim_whitespace=True)\n",
    "\n",
    "sr = 256     # 1 / seconds\n",
    "period = 6   # seconds\n",
    "channels = 10\n",
    "\n",
    "d1 = df_back.to_numpy()\n",
    "d2 = df_epil.to_numpy()\n",
    "\n",
    "data_back = d1[:period*sr:, :channels]\n",
    "data_epil = d2[:period*sr:, :channels]\n"
   ]
  },
  {
   "cell_type": "markdown",
   "id": "a66e9e6d",
   "metadata": {},
   "source": [
    "<p style='text-align: justify;'>\n",
    "The `read_csv` function is called in combination with the keyword argument `delim_whitespace`. When its value is set to `True`, this allows the user to import data that are space-separated (rather than comma-separated). If you eyeball the contents of the `data .txt` files, you will notice that the numbers (which represent voltages) are indeed separated by spaces, not commas.\n",
    "</p>\n",
    "\n",
    "<p style='text-align: justify;'>\n",
    "Next, three constants are assigned: The sampling rate (sr) is given in the number of samples recorded per second; the duration of the recording (period) which is given in seconds; and the number of columns (channels), to be extracted from the recording. Let’s make use of the first 10 columns of data for the remainder of this lesson. \n",
    "</p>\n",
    "\n",
    "The data are then converted from Pandas DataFrame into a NumPy array.\n",
    "\n",
    "To see the names of the channels (or recording sensors) we can use the `head` method as follows:."
   ]
  },
  {
   "cell_type": "code",
   "execution_count": null,
   "id": "5b6a6bc8",
   "metadata": {},
   "outputs": [],
   "source": [
    "df_back.head()"
   ]
  },
  {
   "cell_type": "markdown",
   "id": "8c44b75d",
   "metadata": {},
   "source": [
    "<p style='text-align: justify;'>\n",
    "The row indices and column names for the seizure data look the same. The names of the recording channels are from the commonly used [10-20 system](https://en.wikipedia.org/wiki/10–20_system_(EEG)) used to record voltages of brain activity from the human scalp. As an example, 'F' stands for the frontal lobe.\n",
    "</p>\n",
    "\n",
    "<p style='text-align: justify;'>\n",
    "Next, we can call and make use of the plot function that we defined in the first block of code, above, in order to plot the data. If we examine the  code in which we defined this function, you can see that we have set it to require the specification of two input arguments: these correspond to the dataset and sampling rate.\n",
    "</p>"
   ]
  },
  {
   "cell_type": "code",
   "execution_count": null,
   "id": "6d0760ae",
   "metadata": {
    "collapse": true,
    "tags": [
     "remove_output"
    ]
   },
   "outputs": [],
   "source": [
    "plot_series(data_back, sr)\n",
    "show()"
   ]
  },
  {
   "cell_type": "code",
   "execution_count": null,
   "id": "9c878d82",
   "metadata": {
    "collapse": true,
    "tags": [
     "remove_output"
    ]
   },
   "outputs": [],
   "source": [
    "plot_series(data_epil, sr);\n",
    "show()"
   ]
  },
  {
   "cell_type": "markdown",
   "id": "b2738ea6",
   "metadata": {},
   "source": [
    "__Observations__\n",
    "\n",
    "1. Background:\n",
    "\n",
    "- There are irregular oscillations of all recorded brain potentials.\n",
    "\n",
    "- Oscillations recorded at different locations above the brain, differ.\n",
    "\n",
    "- Oscillations are not stable, but are modulated over time.\n",
    "\n",
    "- There are different frequency components evident in each trace.\n",
    "\n",
    "2. Epileptic Seizure:\n",
    "\n",
    "- There are regular oscillations.\n",
    "\n",
    "- Oscillations recorded at different locations are not identical but similar or at least related in terms of their shape.\n",
    "\n",
    "- Despite some modulation, the oscillations are fairly stable over time.\n",
    "\n",
    "- There are repetitive motifs comprising two major components throughout the recording, a sharp _spike_ and a slow _wave_.\n",
    "\n",
    "__Task__\n",
    "\n",
    "<p style='text-align: justify;'>\n",
    "Quantify features of these time series data to obtain an overview of the data. For a univariate feature we can use the frequency content. This takes into account the fact that the rows (or samples) are not independent of each other but are organised along the time axis. In consequence, there are correlations between data points along the rows of each column and the __Fourier spectrum__ can be used to identify these.\n",
    "</p>\n",
    "\n",
    "<p style='text-align: justify;'>\n",
    "The Fourier spectrum assumes that the data are stationary and can be thought of as a superposition of regular sine waves with different frequencies. Its output will show which of the frequencies are present in the data and also their respective amplitudes. The Fourier spectrum is obtained through mathematical processes collectively known as the Fourier Transform, where a signal is decomposed into its constituent frequencies, allowing each individual frequency component to be analysed and inferences to be made regarding its periodic characteristics.\n",
    "</p>\n",
    "\n",
    "For a bivariate feature, we can use the cross-correlation matrix.\n",
    "\n",
    "## Work-Through Example\n",
    "\n",
    "Check the NumPy array containing the background and seizure data."
   ]
  },
  {
   "cell_type": "code",
   "execution_count": null,
   "id": "4735fc8a",
   "metadata": {},
   "outputs": [],
   "source": [
    "print(data_back.shape, data_epil.shape)\n"
   ]
  },
  {
   "cell_type": "markdown",
   "id": "7ed0031d",
   "metadata": {},
   "source": [
    "There are 1536 rows and 10 columns.\n",
    "\n",
    "### **Display data with offset**\n",
    "\n",
    "<p style='text-align: justify;'>\n",
    "Take a look at the code used to define the function `plot_series`. Again, this is the function we are using to create the time series plot. It requires the input of a data file where the row index is interpreted as time. In addition, the sampling rate (sr) is required in order to extract the time scale. The sampling rate specifies the number of samples recorded per unit time.\n",
    "</p>\n",
    "\n",
    "The sensors, or recording channels, are assumed to be in the columns."
   ]
  },
  {
   "cell_type": "code",
   "execution_count": null,
   "id": "a0395896",
   "metadata": {},
   "outputs": [],
   "source": [
    "def plot_series(data, sr):\n",
    "    '''\n",
    "    Time series plot of multiple time series\n",
    "    Data are normalised to mean=0 and var=1\n",
    "\n",
    "    data: nxm numpy array. Rows are time points, columns are channels\n",
    "    sr: sampling rate, same time units as period\n",
    "    '''\n",
    "\n",
    "    samples = data.shape[0]\n",
    "    sensors = data.shape[1]\n",
    "\n",
    "    period = samples // sr\n",
    "\n",
    "    time = linspace(0, period, period*sr)\n",
    "\n",
    "    offset = 5 # for mean=0 and var=1 normalised data\n",
    "\n",
    "    # Calculate means and standard deviations of all columns\n",
    "    means = data.mean(axis=0)\n",
    "    stds = data.std(axis=0)\n",
    "\n",
    "    # Plot each series with an offset\n",
    "    fig, ax = subplots(figsize=(7, 8))\n",
    "\n",
    "    ax.plot(time, (data - means)/stds + offset*arange(sensors-1,-1,-1));\n",
    "\n",
    "    ax.plot(time, zeros((samples, sensors)) + offset*arange(sensors-1,-1,-1),'--',color='gray');\n",
    "\n",
    "    yticks([]);\n",
    "\n",
    "    names = [str(x) for x in range(sensors)]\n",
    "    legend(names)\n",
    "\n",
    "    ax.set(xlabel='Time')\n",
    "\n",
    "    axis('tight');\n",
    "\n",
    "    return fig, ax"
   ]
  },
  {
   "cell_type": "markdown",
   "id": "bda8540b",
   "metadata": {},
   "source": [
    "The declaration syntax `def` is followed by the function name and, in parentheses, the input arguments. This is completed with a colon.\n",
    "\n",
    "Following the declaration line, the function’s documentation or docstring is contained within two lines of triple backticks. This explains the function’s operation, arguments and use – and can contain any other useful information pertaining to the operation of the defined function. \n",
    "\n",
    "Followin the docstring, the main lines of code that operate on the arguments provided by the user, when the function is called.\n",
    "\n",
    "The function can then be closed using the optional output syntax `return` and any number of returned variables, anything that might be used as a product of running the function.\n",
    "\n",
    "In our example, the figure environment and the coordinate system are 'returned' and can, in principle, be used to further modify the plot.\n",
    "\n",
    "The code below illustrates how to call the function and then add a title and the sensor names to the displayed output:\n"
   ]
  },
  {
   "cell_type": "code",
   "execution_count": null,
   "id": "e7e09904",
   "metadata": {
    "collapse": true,
    "tags": [
     "remove_output"
    ]
   },
   "outputs": [],
   "source": [
    "(fig, ax) = plot_series(data_epil, sr)\n",
    "\n",
    "names = df_back.columns[:channels]\n",
    "\n",
    "fig.suptitle('Recording of Absence Seizure', fontsize=16);\n",
    "\n",
    "legend(names);\n",
    "\n",
    "show()"
   ]
  },
  {
   "cell_type": "markdown",
   "id": "68d3f4ae",
   "metadata": {},
   "source": [
    "<p style='text-align: justify;'>\n",
    "The variable(s) given to a function, and those produced by it, are referred to as input arguments, and outputs respectively. A function ordinarily accepts data or variables in the form of one or several such input arguments, processes these, and subsequently produces a specific output. \n",
    "</p>\n",
    "<p style='text-align: justify;'>\n",
    "There are different ways to create functions in Python. In this course, we will be using the keyword `def` to define our own functions. This is the easiest, and by far the most common method for defining functions. The structure of a typical function defined using `def` can be see in the `plot_series` example:\n",
    "</p>\n",
    "\n",
    "There are several key points about functions that are worth noting:\n",
    "\n",
    "- The name of a function follows same principles as that of any other variable. It must be in lower-case characters, and it is strongly suggested that its name bears resemblance to the processes it undertakes.\n",
    "\n",
    "- The input arguments of a function,  e.g. _data_ and _sr_ in our example, are essentially variables whose scope is confined only to the function. That is, they are only accessible within the function itself, and not from outside the function.\n",
    "\n",
    "- Variables defined inside of a function, should not use the same name as variables defined outside. Otherwise they may override each other.\n",
    "\n",
    "<p style='text-align: justify;'>\n",
    "When defining a function, it is important and best practice to write that function to perform only one specific task. As such, it can be used independent of the current context. Try to avoid incorporating separable tasks into a single function.\n",
    "</p>\n",
    "<p style='text-align: justify;'>\n",
    "Once you start creating functions for different purposes you can start to build your own library of ready-to-use functions. This is the primary principle of a popular programming paradigm known as [functional programming](https://en.wikipedia.org/wiki/Functional_programming).\n",
    "</p>\n",
    "\n",
    "### **Filtering**\n",
    "\n",
    "Datasets with complex waveforms contain many different components which may or may not be relevant to a specific question.\n",
    "<p style='text-align: justify;'>\n",
    "In such situations it can be useful to filter your data, ensuring that you are removing specific components from the dataset that are not relevant to your analyses or question. In this context, the term component refers to 'frequency', i.e.  the number of cycles the waveform completes per unit of time. A small number refers to low frequencies with long periods (cycles), and a large number refers to high frequencies with short periods.\n",
    "</p>\n",
    "\n",
    "Let’s explore a simple example, demonstrating how both low- and high-frequency components can be filtered (suppressed) in our example time series.\n",
    "\n",
    "Let’s begin by defining a simple function which takes two additional input arguments: low and high cut-off.\n"
   ]
  },
  {
   "cell_type": "code",
   "execution_count": null,
   "id": "a45eae71",
   "metadata": {
    "lines_to_next_cell": 2
   },
   "outputs": [],
   "source": [
    "def data_filter(data, sr, low, high):\n",
    "    \"\"\"\n",
    "    Filtering of multiple time series.\n",
    "\n",
    "    data: nxm numpy array. Rows are time points, columns are recordings\n",
    "    sr: sampling rate, same time units as period\n",
    "\n",
    "    low:  Low cut-off frequency (high-pass filter)\n",
    "    high: High cut-off frequency (low-pass filter)\n",
    "\n",
    "    return: filtered data\n",
    "    \"\"\"\n",
    "\n",
    "    from scipy.signal import butter, sosfilt\n",
    "\n",
    "    order = 5\n",
    "\n",
    "    filter_settings = [low, high, order]\n",
    "\n",
    "    sos = butter(order, (low,high), btype='bandpass', fs=sr, output='sos')\n",
    "\n",
    "    data_filtered = zeros((data.shape[0], data.shape[1]))\n",
    "\n",
    "    for index, column in enumerate(data.transpose()):\n",
    "        forward = sosfilt(sos, column)\n",
    "        backwards = sosfilt(sos, forward[-1::-1])\n",
    "        data_filtered[:, index] = backwards[-1::-1]\n",
    "\n",
    "    return data_filtered\n"
   ]
  },
  {
   "cell_type": "code",
   "execution_count": null,
   "id": "477dda1c",
   "metadata": {
    "collapse": true,
    "tags": [
     "remove_output"
    ]
   },
   "outputs": [],
   "source": [
    "data_back_filt = data_filter(data_back, sr, 8, 13)\n",
    "\n",
    "(fig, ax) = plot_series(data_back_filt, sr)\n",
    "\n",
    "fig.suptitle('Filtered Recording of Background EEG', fontsize=16);\n",
    "\n",
    "legend(names);\n",
    "\n",
    "show()\n"
   ]
  },
  {
   "cell_type": "markdown",
   "id": "8e100e76",
   "metadata": {},
   "source": [
    "<p style='text-align: justify;'>\n",
    "The frequency range from 8 to 13 Hz is referred to as alpha band in our EEG. It is thought that this represents a type of idling rhythm in the brain where the brain is not actively processing sensory input.\n",
    "</p>\n",
    "\n",
    ":::::::::::::::::::::::::::::: challenge\n",
    "\n",
    "## Practice Exercise 1 \n",
    "\n",
    "**Band-pass filtered data**\n",
    "\n",
    "Create figures of the delta (1-4 Hz) band for both the background and the seizure EEG. Note the differences.\n",
    "\n",
    "::::::::::::::::: solution\n"
   ]
  },
  {
   "cell_type": "code",
   "execution_count": null,
   "id": "f2eeb2b8",
   "metadata": {
    "collapse": true,
    "tags": [
     "remove_output"
    ]
   },
   "outputs": [],
   "source": [
    "data_back_filt = data_filter(data_back, sr, 1, 4)\n",
    "\n",
    "(fig, ax) = plot_series(data_back_filt, sr)\n",
    "\n",
    "fig.suptitle('Delta Band of Background EEG', fontsize=16);\n",
    "\n",
    "legend(names);\n",
    "\n",
    "show()\n"
   ]
  },
  {
   "cell_type": "code",
   "execution_count": null,
   "id": "b1e442cd",
   "metadata": {
    "collapse": true,
    "tags": [
     "remove_output"
    ]
   },
   "outputs": [],
   "source": [
    "data_epil_filt = data_filter(data_epil, sr, 1, 4)\n",
    "\n",
    "(fig, ax) = plot_series(data_epil_filt, sr)\n",
    "\n",
    "fig.suptitle('Delta Band of Seizure EEG', fontsize=16);\n",
    "\n",
    "legend(names);\n",
    "\n",
    "show()"
   ]
  },
  {
   "cell_type": "markdown",
   "id": "7ccd907e",
   "metadata": {},
   "source": [
    ":::::::::::::::::\n",
    "\n",
    ":::::::::::::::::::::::::::::::\n",
    "\n",
    "### **Fourier Spectrum**\n",
    "<p style='text-align: justify;'>\n",
    "The Fourier spectrum decomposes the time series into a sum of sine waves. The spectrum gives the coefficients of each of the sine wave components. The coefficients are directly related to the amplitudes required to optimally fit the sum of all sine waves, in order to recreate the original data.\n",
    "</p>\n",
    "\n",
    "<p style='text-align: justify;'>\n",
    "However, the assumption behind the Fourier Transform, is that the data are provided as an infinitely long, stationary time series. These assumptions are invalid, as the data are finite and stationarity of a biological system is rarely guaranteed. Thus, interpretation needs to be approached cautiously.\n",
    "</p>\n",
    "\n",
    "#### **Fourier Transform of EEG data**\n",
    "\n",
    "We import the Fourier Transform function `fft` from the library __scipy.fftpack__ where it can be used to transform all columns at the same time.\n"
   ]
  },
  {
   "cell_type": "code",
   "execution_count": null,
   "id": "caffb977",
   "metadata": {},
   "outputs": [],
   "source": [
    "from scipy.fftpack import fft\n",
    "\n",
    "data_back_fft = fft(data_back, axis=0)\n"
   ]
  },
  {
   "cell_type": "markdown",
   "id": "ba29dff0",
   "metadata": {},
   "source": [
    "To plot the results of the Fourier Transform, the following steps must be taken.\n",
    "<p style='text-align: justify;'>\n",
    "Firstly, we must obtain a Fourier spectrum for every data column. Thus, we need to define how many plots we want to have. If we take only the columns in our data, we should be able to display them all, simultaneously.\n",
    "</p>\n",
    "<p style='text-align: justify;'>\n",
    "Secondly, the Fourier Transform results in twice the number of complex coefficients; it produces both positive and negative frequency components, of which we only need the first (positive) half.\n",
    "</p>\n",
    "<p style='text-align: justify;'>\n",
    "Lastly, the Fourier Transform outputs complex numbers. To display the ‘amplitude’ of each frequency, we take the absolute value of the complex numbers, using the abs() function. \n",
    "</p>"
   ]
  },
  {
   "cell_type": "code",
   "execution_count": null,
   "id": "056e85cc",
   "metadata": {},
   "outputs": [],
   "source": [
    "no_win = 2\n",
    "\n",
    "rows = data_back.shape[0]\n",
    "\n",
    "freqs = (sr/2)*linspace(0, 1, int(rows/2))\n",
    "\n",
    "amplitudes_back = (2.0 / rows) * abs(data_back_fft[:rows//2, :2])\n",
    "\n",
    "\n",
    "fig, axes = subplots(figsize=(6, 5), ncols=1, nrows=no_win, sharex=False)\n",
    "\n",
    "names = df_back.columns[:2]\n",
    "\n",
    "for index, ax in enumerate(axes.flat):\n",
    "    axes[index].plot(freqs, amplitudes_back[:, index])\n",
    "    axes[index].set_xlim(0, 8)\n",
    "    axes[index].set(ylabel=f'Amplitude {names[index]}')\n",
    "\n",
    "axes[index].set(xlabel='Frequency (Hz)');\n",
    "\n",
    "show()\n"
   ]
  },
  {
   "cell_type": "markdown",
   "id": "206ef566",
   "metadata": {},
   "source": [
    "In these two channels, we can clearly see that the main amplitude contributions lie in the low frequencies, below 2 Hz.\n",
    "\n",
    "Let us compare the corresponding figure for the case of seizure activity:\n"
   ]
  },
  {
   "cell_type": "code",
   "execution_count": null,
   "id": "bacd58c7",
   "metadata": {},
   "outputs": [],
   "source": [
    "data_epil_fft = fft(data_epil, axis=0)\n"
   ]
  },
  {
   "cell_type": "code",
   "execution_count": null,
   "id": "45bb0c5a",
   "metadata": {},
   "outputs": [],
   "source": [
    "fig, axes = subplots(figsize=(6, 5), ncols=1, nrows=no_win, sharex=False)\n",
    "\n",
    "names = df_epil.columns[:2]\n",
    "\n",
    "amplitudes_epil = (2.0 / rows) * abs(data_epil_fft[:rows//2, :2])\n",
    "\n",
    "for index, ax in enumerate(axes.flat):\n",
    "    axes[index].plot(freqs, amplitudes_epil[:, index])\n",
    "    axes[index].set_xlim(0, 12)\n",
    "    axes[index].set(ylabel=f'Amplitude {names[index]}')\n",
    "\n",
    "axes[index].set(xlabel='Frequency (Hz)');\n",
    "\n",
    "show()"
   ]
  },
  {
   "cell_type": "markdown",
   "id": "8000da0a",
   "metadata": {},
   "source": [
    "During the seizure, it is clear that the main frequency of the epileptic rhythm is between 2 and 3 Hz. \n",
    "<p style='text-align: justify;'>\n",
    "As we can see from the Fourier spectra generated above, the amplitudes are high for low frequencies, and tend to decrease as the frequency increases. Thus, it can sometimes be useful to see the high frequencies enhanced. This can be achieved with a logarithmic plot of the powers.\n",
    "</p>"
   ]
  },
  {
   "cell_type": "code",
   "execution_count": null,
   "id": "fae77b49",
   "metadata": {},
   "outputs": [],
   "source": [
    "fig, axes = subplots(figsize=(6, 6), ncols=1, nrows=no_win, sharex=False)\n",
    "\n",
    "for index, ax in enumerate(axes.flat):\n",
    "\n",
    "    axes[index].plot(freqs, amplitudes_back[:, index])\n",
    "    axes[index].set_xlim(0, 30)\n",
    "    axes[index].set(ylabel=f'Amplitude {names[index]}')\n",
    "    axes[index].set_yscale('log')\n",
    "\n",
    "axes[no_win-1].set(xlabel='Frequency (Hz)');\n",
    "fig.suptitle('Logarithmic Fourier Spectra of Background EEG', fontsize=16);\n",
    "\n",
    "show()"
   ]
  },
  {
   "cell_type": "markdown",
   "id": "34ded112",
   "metadata": {},
   "source": [
    "And for the seizure data:"
   ]
  },
  {
   "cell_type": "code",
   "execution_count": null,
   "id": "e91f8353",
   "metadata": {
    "lines_to_next_cell": 0
   },
   "outputs": [],
   "source": [
    "\n",
    "fig, axes = subplots(figsize=(6, 10), ncols=1, nrows=no_win, sharex=False)\n",
    "\n",
    "for index, ax in enumerate(axes.flat):\n",
    "\n",
    "    axes[index].plot(freqs, amplitudes_epil[:, index])\n",
    "    axes[index].set_xlim(0, 30)\n",
    "    axes[index].set(ylabel=f'Power {names[index]}')\n",
    "    axes[index].set_yscale('log')\n",
    "\n",
    "axes[no_win-1].set(xlabel='Frequency (Hz)');\n",
    "fig.suptitle('Logarithmic Fourier Spectra of Seizure EEG', fontsize=16);\n",
    "\n",
    "show()"
   ]
  },
  {
   "cell_type": "markdown",
   "id": "dd307a63",
   "metadata": {
    "lines_to_next_cell": 0
   },
   "source": [
    "<p style='text-align: justify;'>\n",
    "In the spectrum of the absence data, it is now more obvious that there are further maxima at 6, 9, 12 and perhaps 15Hz. These are integer multiples or 'harmonics' of the basic frequency at around 3Hz, which we term as the fundamental frequency.\n",
    "</p>\n",
    "<p style='text-align: justify;'>\n",
    "A feature that can be used as a summary statistic, is to caclulate the __band power__ for each channel. Band power is the total power of a signal within a specific frequency range. The band power can be obtained by calculating the sum of all powers within a specified range of frequencies; this range is also referred to as the ‘band’. The band power, thus, is given as a single number.\n",
    "</p>\n",
    "\n",
    ":::::::::::::::::::::::::::::: challenge\n",
    "\n",
    "## Practice Exercise 2\n",
    "\n",
    "**Fourier spectra of filtered data**\n",
    "\n",
    "Calculate and display the Fourier spectra of the first two channels filtered between 4 and 12 Hz for the absence seizure data. Can you find any harmonics?\n",
    "\n",
    "::::::::::::::::: solution"
   ]
  },
  {
   "cell_type": "code",
   "execution_count": null,
   "id": "23e5e6aa",
   "metadata": {},
   "outputs": [],
   "source": [
    "data_epil_filt = data_filter(data_epil, sr, 4, 12)\n",
    "\n",
    "data_epil_fft = fft(data_epil_filt, axis=0)\n",
    "\n",
    "rows = data_epil.shape[0]\n",
    "\n",
    "freqs = (sr/2)*linspace(0, 1, int(rows/2))\n",
    "\n",
    "amplitudes_epil = (2.0 / rows) * abs(data_epil_fft[:rows//2, :no_win])\n",
    "\n",
    "fig, axes = subplots(figsize=(6, 10), ncols=1, nrows=no_win, sharex=False)\n",
    "\n",
    "for index, ax in enumerate(axes.flat):\n",
    "    axes[index].plot(freqs, amplitudes_epil[:, index])\n",
    "    axes[index].set_xlim(0, 12)\n",
    "    axes[index].set(ylabel=f'Amplitudes {names[index]}')\n",
    "axes[no_win-1].set(xlabel='Frequency (Hz)');\n",
    "\n",
    "fig.suptitle('Fourier Spectra of Seizure EEG', fontsize=16);\n",
    "\n",
    "show()"
   ]
  },
  {
   "cell_type": "markdown",
   "id": "03ec78aa",
   "metadata": {},
   "source": [
    ":::::::::::::::::\n",
    "\n",
    ":::::::::::::::::::::::::::::::\n",
    "\n",
    "### **Cross-Correlation Matrix**\n",
    "As one example of a multivariate analysis of time series data, we can also calculate the cross-correlation matrix.\n",
    "\n",
    "Let us calculate it for the background:"
   ]
  },
  {
   "cell_type": "code",
   "execution_count": null,
   "id": "60202aaf",
   "metadata": {},
   "outputs": [],
   "source": [
    "corr_matrix_back = corrcoef(data_back, rowvar=False)\n",
    "\n",
    "fill_diagonal(corr_matrix_back, 0)\n",
    "\n",
    "fig, ax = subplots(figsize = (8,8))\n",
    "\n",
    "im = ax.imshow(corr_matrix_back, cmap='coolwarm');\n",
    "\n",
    "fig.colorbar(im, orientation='horizontal', shrink=0.68);\n",
    "\n",
    "show()\n"
   ]
  },
  {
   "cell_type": "markdown",
   "id": "ea5561ed",
   "metadata": {},
   "source": [
    "<p style='text-align: justify;'>\n",
    "The diagonal is set to zero. This is done to improve the visual display. If it was left set to one, the diagonal would dominate the visual impression given, even though it is trivial and uninformative.\n",
    "</p>\n",
    "\n",
    "Looking at the non-diagonal elements, we find:\n",
    "\n",
    "- Two strongly correlated series (indices 5 and 7)\n",
    "\n",
    "- Two strongly anti-correlated series (indices 3 and 4)\n",
    "\n",
    "- A block of pronounced correlations (between series with indices 4 through 9)\n",
    "\n",
    ":::::::::::::::::::::::::::::: challenge\n",
    "\n",
    "## Practice Exercise 3: \n",
    "\n",
    "**Display the correlation matrix for the seizure data**\n",
    "\n",
    "Calculate the correlation matrix for the seizure data and compare the correlation pattern to the one from the background data.\n",
    "\n",
    "::::::::::::::::: solution\n"
   ]
  },
  {
   "cell_type": "code",
   "execution_count": null,
   "id": "9332040c",
   "metadata": {},
   "outputs": [],
   "source": [
    "corr_matrix_epil = corrcoef(data_epil, rowvar=False)\n",
    "\n",
    "fill_diagonal(corr_matrix_epil, 0)\n",
    "\n",
    "fig, ax = subplots(figsize = (8,8))\n",
    "\n",
    "im = ax.imshow(corr_matrix_epil, cmap='coolwarm');\n",
    "\n",
    "fig.colorbar(im, orientation='horizontal', shrink=0.68);\n",
    "\n",
    "show()"
   ]
  },
  {
   "cell_type": "markdown",
   "id": "ae0c5d45",
   "metadata": {},
   "source": [
    "<p style='text-align: justify;'>\n",
    "We find - a number of pairs of strongly correlated series - two strongly anti-correlated series (in- dices 3 and 4) - a block of pronounced correlations between series with indices 4 through 9).\n",
    "</p>\n",
    "<p style='text-align: justify;'>\n",
    "So interestingly, while the time series changes dramatically in shape, the correlation pattern still shows some qualitative resemblance.\n",
    "</p>\n",
    "\n",
    ":::::::::::::::::\n",
    "\n",
    ":::::::::::::::::::::::::::::::\n",
    "\n",
    "<p style='text-align: justify;'>\n",
    "All results shown so far, represent the recording of the segment of 6 seconds we chose at the beginning of the lesson. The human brain produces time-dependent voltage changes 24 hours a day. Thus seeing only a few seconds provides only a partial view. The next step is therefore to investigate and demonstrate how the features found for one segment may vary over time.\n",
    "</p>\n",
    "\n",
    "## Exercises\n",
    ":::::::::::::::::::::::::::::::::::::::: challenge\n",
    "\n",
    "#### End of chapter Exercises"
   ]
  },
  {
   "cell_type": "markdown",
   "id": "aa8be491",
   "metadata": {},
   "source": [
    "**Pathological Human Brain Rhythms**\n",
    "<p style='text-align: justify;'>\n",
    "Look at the image of brain activity from a child at the start of an epileptic seizure. It shows 4 seconds of evolution of the first 10 channels of a seizure rhythm at sampling rate sr=1024.\n",
    "</p>\n"
   ]
  },
  {
   "cell_type": "code",
   "execution_count": null,
   "id": "aa15a78e",
   "metadata": {},
   "outputs": [],
   "source": [
    "path = 'data/P1_Seizure1.csv'\n",
    "\n",
    "data = read_csv(path, delimiter=r\"\\s+\")\n",
    "\n",
    "data_P1 = data.to_numpy()\n",
    "\n",
    "sr = 1024\n",
    "\n",
    "period = 4\n",
    "\n",
    "channels = 10\n",
    "\n",
    "plot_series(data_P1[:sr*period, :channels], sr);\n",
    "\n",
    "show()\n"
   ]
  },
  {
   "cell_type": "markdown",
   "id": "aa5d192b",
   "metadata": {},
   "source": [
    "Using the code utilised in this lesson, import the data from the file `P1_Seizure1.csv` and generate an overview of uni- and multivariate features in the following form:"
   ]
  },
  {
   "cell_type": "markdown",
   "id": "a9cc8ac5",
   "metadata": {},
   "source": [
    "1. Pick the first two seconds of the recording as background, and the last two seconds as epileptic seizure rhythm. Use the first ten channels of data, in both cases. Using the shape attribute, the data should give a tuple of (2048, 10).\n",
    "\n",
    "2. Filter the data to get rid of frequencies below 1 Hz and frequencies faster than 20 Hz.\n",
    "\n",
    "3. Plot time series for both.\n",
    "\n",
    "4. Fourier Transform both filtered datasets and display the Fourier spectra of the first 4 channels. What are the strongest frequencies in each of the two datasets?\n",
    "\n",
    "5. Plot the correlation matrices of both datasets. Which channels show the strongest change in correlations?\n",
    "\n",
    "::::::::::::::::::::: solution\n",
    "\n",
    "## Solutions will be provided once the submitted assignments are marked and returned."
   ]
  },
  {
   "cell_type": "markdown",
   "id": "7a65fd1e",
   "metadata": {},
   "source": [
    ":::::::::::::::::::::\n",
    "\n",
    "::::::::::::::::::::::::::::::::::::::::"
   ]
  },
  {
   "cell_type": "markdown",
   "id": "ea0c52ce",
   "metadata": {},
   "source": [
    "::::::::::::::::::::::::::::::::::::: keypoints\n",
    "\n",
    "- `plot_series` is a Python function we defined to display multiple time series plots.\n",
    "- Data filtering is applied to remove specific and irrelevant components.\n",
    "- The Fourier spectrum decomposes the time series into a sum of sine waves.\n",
    "- Cross-correlation matrices are used for multivariate analysis.\n",
    "\n",
    "::::::::::::::::::::::::::::::::::::::::::::::::"
   ]
  }
 ],
 "metadata": {
  "jupytext": {
   "cell_metadata_filter": "tags,collapse,-all",
   "main_language": "python",
   "notebook_metadata_filter": "-all"
  }
 },
 "nbformat": 4,
 "nbformat_minor": 5
}
